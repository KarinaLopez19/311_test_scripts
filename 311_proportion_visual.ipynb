{
 "cells": [
  {
   "cell_type": "code",
   "execution_count": 132,
   "metadata": {},
   "outputs": [
    {
     "name": "stderr",
     "output_type": "stream",
     "text": [
      "<ipython-input-132-212a6b153825>:30: FutureWarning:\n",
      "\n",
      "Passing a negative integer is deprecated in version 1.0 and will not be supported in future version. Instead, use None to not limit the column width.\n",
      "\n"
     ]
    }
   ],
   "source": [
    "import pandas as pd\n",
    "import numpy as np\n",
    "import glob\n",
    "import os\n",
    "import csv\n",
    "import sys\n",
    "import seaborn as sns\n",
    "from scipy import stats\n",
    "from sklearn.linear_model import LinearRegression\n",
    "from sklearn.metrics import r2_score\n",
    "import statsmodels.api as sm\n",
    "from scipy.stats import linregress\n",
    "import plotly.graph_objects as go\n",
    "from plotly.subplots import make_subplots\n",
    "from plotly.subplots import make_subplots\n",
    "import plotly.io as pio\n",
    "pio.templates.default = \"plotly_dark\"\n",
    "import plotly.express as px\n",
    "\n",
    "\n",
    "#sns.set_style('darkgrid')\n",
    "\n",
    "%matplotlib inline\n",
    "import matplotlib.pyplot as plt\n",
    "import matplotlib\n",
    "\n",
    "#setting pandas display options\n",
    "pd.set_option('display.max_columns', None)  # or 1000\n",
    "pd.set_option('display.max_rows', None)  # or 1000\n",
    "pd.set_option('display.max_colwidth', -1)  # or 199\n",
    "\n",
    "BASE_DIR = \"/Users/karinalopez/Desktop/ds_projects/hack4la_311/\""
   ]
  },
  {
   "cell_type": "code",
   "execution_count": 93,
   "metadata": {},
   "outputs": [],
   "source": [
    "os.chdir(BASE_DIR + 'data/intermediate/')\n",
    "df = pd.read_csv('clean_311data.csv')"
   ]
  },
  {
   "cell_type": "code",
   "execution_count": 94,
   "metadata": {
    "scrolled": true
   },
   "outputs": [
    {
     "data": {
      "text/html": [
       "<div>\n",
       "<style scoped>\n",
       "    .dataframe tbody tr th:only-of-type {\n",
       "        vertical-align: middle;\n",
       "    }\n",
       "\n",
       "    .dataframe tbody tr th {\n",
       "        vertical-align: top;\n",
       "    }\n",
       "\n",
       "    .dataframe thead th {\n",
       "        text-align: right;\n",
       "    }\n",
       "</style>\n",
       "<table border=\"1\" class=\"dataframe\">\n",
       "  <thead>\n",
       "    <tr style=\"text-align: right;\">\n",
       "      <th></th>\n",
       "      <th>index</th>\n",
       "      <th>location</th>\n",
       "      <th>zipcode</th>\n",
       "      <th>suffix</th>\n",
       "      <th>srnumber</th>\n",
       "      <th>updateddate</th>\n",
       "      <th>closeddate</th>\n",
       "      <th>cd</th>\n",
       "      <th>address</th>\n",
       "      <th>createdbyuserorganization</th>\n",
       "      <th>createddate</th>\n",
       "      <th>requestsource</th>\n",
       "      <th>requesttype</th>\n",
       "      <th>assignto</th>\n",
       "      <th>latitude</th>\n",
       "      <th>owner</th>\n",
       "      <th>housenumber</th>\n",
       "      <th>mobileos</th>\n",
       "      <th>approximateaddress</th>\n",
       "      <th>policeprecinct</th>\n",
       "      <th>cdmember</th>\n",
       "      <th>servicedate</th>\n",
       "      <th>nc</th>\n",
       "      <th>longitude</th>\n",
       "      <th>tbmcolumn</th>\n",
       "      <th>status</th>\n",
       "      <th>tbmrow</th>\n",
       "      <th>direction</th>\n",
       "      <th>anonymous</th>\n",
       "      <th>addressverified</th>\n",
       "      <th>actiontaken</th>\n",
       "      <th>streetname</th>\n",
       "      <th>ncname</th>\n",
       "      <th>apc</th>\n",
       "      <th>tbmpage</th>\n",
       "      <th>days_to_service</th>\n",
       "      <th>days_to_close</th>\n",
       "      <th>days_to_update</th>\n",
       "    </tr>\n",
       "  </thead>\n",
       "  <tbody>\n",
       "    <tr>\n",
       "      <th>0</th>\n",
       "      <td>0</td>\n",
       "      <td>{'latitude': '33.9589038232', 'needs_recoding': False, 'longitude': '-118.273259328'}</td>\n",
       "      <td>90003</td>\n",
       "      <td>ST</td>\n",
       "      <td>1-1831739761</td>\n",
       "      <td>2021-01-02 08:12:27</td>\n",
       "      <td>2021-01-02 07:39:24</td>\n",
       "      <td>8</td>\n",
       "      <td>114 E 87TH ST, 90003</td>\n",
       "      <td>Self Service</td>\n",
       "      <td>2020-12-31 23:57:54</td>\n",
       "      <td>Mobile App</td>\n",
       "      <td>Bulky Items</td>\n",
       "      <td>SLA</td>\n",
       "      <td>33.958904</td>\n",
       "      <td>LASAN</td>\n",
       "      <td>114.0</td>\n",
       "      <td>Android</td>\n",
       "      <td>NaN</td>\n",
       "      <td>SOUTHEAST</td>\n",
       "      <td>Marqueece Harris-Dawson</td>\n",
       "      <td>2021-01-02 00:00:00</td>\n",
       "      <td>87.0</td>\n",
       "      <td>-118.273259</td>\n",
       "      <td>C</td>\n",
       "      <td>Closed</td>\n",
       "      <td>3.0</td>\n",
       "      <td>E</td>\n",
       "      <td>N</td>\n",
       "      <td>Y</td>\n",
       "      <td>SR Created</td>\n",
       "      <td>87TH</td>\n",
       "      <td>Empowerment Congress Southeast</td>\n",
       "      <td>South Los Angeles APC</td>\n",
       "      <td>704.0</td>\n",
       "      <td>1.0</td>\n",
       "      <td>1.0</td>\n",
       "      <td>1.0</td>\n",
       "    </tr>\n",
       "    <tr>\n",
       "      <th>1</th>\n",
       "      <td>2</td>\n",
       "      <td>{'latitude': '34.1794105977', 'needs_recoding': False, 'longitude': '-118.373220799'}</td>\n",
       "      <td>91601</td>\n",
       "      <td>NaN</td>\n",
       "      <td>1-1831738771</td>\n",
       "      <td>2021-01-04 15:49:43</td>\n",
       "      <td>2021-01-04 15:49:43</td>\n",
       "      <td>2</td>\n",
       "      <td>FULCHER AVE AT OXNARD ST, 91601</td>\n",
       "      <td>Self Service</td>\n",
       "      <td>2020-12-31 23:54:33</td>\n",
       "      <td>Self Service</td>\n",
       "      <td>Graffiti Removal</td>\n",
       "      <td>NDFY</td>\n",
       "      <td>34.179411</td>\n",
       "      <td>OCB</td>\n",
       "      <td>NaN</td>\n",
       "      <td>NaN</td>\n",
       "      <td>N</td>\n",
       "      <td>NORTH HOLLYWOOD</td>\n",
       "      <td>Paul Krekorian</td>\n",
       "      <td>2021-01-04 00:00:00</td>\n",
       "      <td>24.0</td>\n",
       "      <td>-118.373221</td>\n",
       "      <td>J</td>\n",
       "      <td>Cancelled</td>\n",
       "      <td>7.0</td>\n",
       "      <td>NaN</td>\n",
       "      <td>Y</td>\n",
       "      <td>Y</td>\n",
       "      <td>SR Created</td>\n",
       "      <td>NaN</td>\n",
       "      <td>NoHo</td>\n",
       "      <td>South Valley APC</td>\n",
       "      <td>532.0</td>\n",
       "      <td>3.0</td>\n",
       "      <td>3.0</td>\n",
       "      <td>3.0</td>\n",
       "    </tr>\n",
       "    <tr>\n",
       "      <th>2</th>\n",
       "      <td>4</td>\n",
       "      <td>{'latitude': '34.1868286824', 'needs_recoding': False, 'longitude': '-118.391412973'}</td>\n",
       "      <td>91606</td>\n",
       "      <td>BLVD</td>\n",
       "      <td>1-1831736811</td>\n",
       "      <td>2021-01-05 15:28:44</td>\n",
       "      <td>2021-01-05 15:26:58</td>\n",
       "      <td>2</td>\n",
       "      <td>11841 W VICTORY BLVD, 91606</td>\n",
       "      <td>Self Service</td>\n",
       "      <td>2020-12-31 23:48:56</td>\n",
       "      <td>Self Service</td>\n",
       "      <td>Bulky Items</td>\n",
       "      <td>EV</td>\n",
       "      <td>34.186829</td>\n",
       "      <td>LASAN</td>\n",
       "      <td>11841.0</td>\n",
       "      <td>NaN</td>\n",
       "      <td>N</td>\n",
       "      <td>NORTH HOLLYWOOD</td>\n",
       "      <td>Paul Krekorian</td>\n",
       "      <td>2021-01-05 00:00:00</td>\n",
       "      <td>23.0</td>\n",
       "      <td>-118.391413</td>\n",
       "      <td>G</td>\n",
       "      <td>Closed</td>\n",
       "      <td>6.0</td>\n",
       "      <td>W</td>\n",
       "      <td>Y</td>\n",
       "      <td>Y</td>\n",
       "      <td>SR Created</td>\n",
       "      <td>VICTORY</td>\n",
       "      <td>North Hollywood Northeast</td>\n",
       "      <td>South Valley APC</td>\n",
       "      <td>532.0</td>\n",
       "      <td>4.0</td>\n",
       "      <td>4.0</td>\n",
       "      <td>4.0</td>\n",
       "    </tr>\n",
       "    <tr>\n",
       "      <th>3</th>\n",
       "      <td>5</td>\n",
       "      <td>{'latitude': '34.1722631848', 'needs_recoding': False, 'longitude': '-118.544654655'}</td>\n",
       "      <td>91356</td>\n",
       "      <td>AVE</td>\n",
       "      <td>1-1831736791</td>\n",
       "      <td>2021-01-07 23:19:34</td>\n",
       "      <td>2021-01-07 19:02:27</td>\n",
       "      <td>3</td>\n",
       "      <td>5600 N WILBUR AVE, 91356</td>\n",
       "      <td>LASAN</td>\n",
       "      <td>2020-12-31 23:48:47</td>\n",
       "      <td>Call</td>\n",
       "      <td>Homeless Encampment</td>\n",
       "      <td>WV</td>\n",
       "      <td>34.172263</td>\n",
       "      <td>LASAN</td>\n",
       "      <td>5600.0</td>\n",
       "      <td>NaN</td>\n",
       "      <td>N</td>\n",
       "      <td>WEST VALLEY</td>\n",
       "      <td>Bob Blumenfield</td>\n",
       "      <td>2021-01-07 00:00:00</td>\n",
       "      <td>17.0</td>\n",
       "      <td>-118.544655</td>\n",
       "      <td>H</td>\n",
       "      <td>Closed</td>\n",
       "      <td>2.0</td>\n",
       "      <td>N</td>\n",
       "      <td>N</td>\n",
       "      <td>Y</td>\n",
       "      <td>SR Created</td>\n",
       "      <td>WILBUR</td>\n",
       "      <td>Tarzana</td>\n",
       "      <td>South Valley APC</td>\n",
       "      <td>560.0</td>\n",
       "      <td>6.0</td>\n",
       "      <td>6.0</td>\n",
       "      <td>6.0</td>\n",
       "    </tr>\n",
       "    <tr>\n",
       "      <th>4</th>\n",
       "      <td>6</td>\n",
       "      <td>{'latitude': '34.1865017598', 'needs_recoding': False, 'longitude': '-118.383920351'}</td>\n",
       "      <td>91606</td>\n",
       "      <td>BLVD</td>\n",
       "      <td>1-1831739561</td>\n",
       "      <td>2021-01-06 03:49:36</td>\n",
       "      <td>2021-01-05 08:53:40</td>\n",
       "      <td>2</td>\n",
       "      <td>11542 W VICTORY BLVD, 91606</td>\n",
       "      <td>Self Service</td>\n",
       "      <td>2020-12-31 23:47:50</td>\n",
       "      <td>Self Service</td>\n",
       "      <td>Bulky Items</td>\n",
       "      <td>EV</td>\n",
       "      <td>34.186502</td>\n",
       "      <td>LASAN</td>\n",
       "      <td>11542.0</td>\n",
       "      <td>NaN</td>\n",
       "      <td>N</td>\n",
       "      <td>NORTH HOLLYWOOD</td>\n",
       "      <td>Paul Krekorian</td>\n",
       "      <td>2021-01-05 00:00:00</td>\n",
       "      <td>24.0</td>\n",
       "      <td>-118.383920</td>\n",
       "      <td>H</td>\n",
       "      <td>Closed</td>\n",
       "      <td>6.0</td>\n",
       "      <td>W</td>\n",
       "      <td>Y</td>\n",
       "      <td>Y</td>\n",
       "      <td>SR Created</td>\n",
       "      <td>VICTORY</td>\n",
       "      <td>NoHo</td>\n",
       "      <td>South Valley APC</td>\n",
       "      <td>532.0</td>\n",
       "      <td>4.0</td>\n",
       "      <td>4.0</td>\n",
       "      <td>5.0</td>\n",
       "    </tr>\n",
       "  </tbody>\n",
       "</table>\n",
       "</div>"
      ],
      "text/plain": [
       "   index  \\\n",
       "0  0       \n",
       "1  2       \n",
       "2  4       \n",
       "3  5       \n",
       "4  6       \n",
       "\n",
       "                                                                                location  \\\n",
       "0  {'latitude': '33.9589038232', 'needs_recoding': False, 'longitude': '-118.273259328'}   \n",
       "1  {'latitude': '34.1794105977', 'needs_recoding': False, 'longitude': '-118.373220799'}   \n",
       "2  {'latitude': '34.1868286824', 'needs_recoding': False, 'longitude': '-118.391412973'}   \n",
       "3  {'latitude': '34.1722631848', 'needs_recoding': False, 'longitude': '-118.544654655'}   \n",
       "4  {'latitude': '34.1865017598', 'needs_recoding': False, 'longitude': '-118.383920351'}   \n",
       "\n",
       "   zipcode suffix      srnumber          updateddate           closeddate  cd  \\\n",
       "0  90003    ST     1-1831739761  2021-01-02 08:12:27  2021-01-02 07:39:24  8    \n",
       "1  91601    NaN    1-1831738771  2021-01-04 15:49:43  2021-01-04 15:49:43  2    \n",
       "2  91606    BLVD   1-1831736811  2021-01-05 15:28:44  2021-01-05 15:26:58  2    \n",
       "3  91356    AVE    1-1831736791  2021-01-07 23:19:34  2021-01-07 19:02:27  3    \n",
       "4  91606    BLVD   1-1831739561  2021-01-06 03:49:36  2021-01-05 08:53:40  2    \n",
       "\n",
       "                           address createdbyuserorganization  \\\n",
       "0  114 E 87TH ST, 90003             Self Service               \n",
       "1  FULCHER AVE AT OXNARD ST, 91601  Self Service               \n",
       "2  11841 W VICTORY BLVD, 91606      Self Service               \n",
       "3  5600 N WILBUR AVE, 91356         LASAN                      \n",
       "4  11542 W VICTORY BLVD, 91606      Self Service               \n",
       "\n",
       "           createddate requestsource          requesttype assignto   latitude  \\\n",
       "0  2020-12-31 23:57:54  Mobile App    Bulky Items          SLA      33.958904   \n",
       "1  2020-12-31 23:54:33  Self Service  Graffiti Removal     NDFY     34.179411   \n",
       "2  2020-12-31 23:48:56  Self Service  Bulky Items          EV       34.186829   \n",
       "3  2020-12-31 23:48:47  Call          Homeless Encampment  WV       34.172263   \n",
       "4  2020-12-31 23:47:50  Self Service  Bulky Items          EV       34.186502   \n",
       "\n",
       "   owner  housenumber mobileos approximateaddress   policeprecinct  \\\n",
       "0  LASAN  114.0        Android  NaN                SOUTHEAST         \n",
       "1  OCB   NaN           NaN      N                  NORTH HOLLYWOOD   \n",
       "2  LASAN  11841.0      NaN      N                  NORTH HOLLYWOOD   \n",
       "3  LASAN  5600.0       NaN      N                  WEST VALLEY       \n",
       "4  LASAN  11542.0      NaN      N                  NORTH HOLLYWOOD   \n",
       "\n",
       "                  cdmember          servicedate    nc   longitude tbmcolumn  \\\n",
       "0  Marqueece Harris-Dawson  2021-01-02 00:00:00  87.0 -118.273259  C          \n",
       "1  Paul Krekorian           2021-01-04 00:00:00  24.0 -118.373221  J          \n",
       "2  Paul Krekorian           2021-01-05 00:00:00  23.0 -118.391413  G          \n",
       "3  Bob Blumenfield          2021-01-07 00:00:00  17.0 -118.544655  H          \n",
       "4  Paul Krekorian           2021-01-05 00:00:00  24.0 -118.383920  H          \n",
       "\n",
       "      status  tbmrow direction anonymous addressverified actiontaken  \\\n",
       "0  Closed     3.0     E         N         Y               SR Created   \n",
       "1  Cancelled  7.0     NaN       Y         Y               SR Created   \n",
       "2  Closed     6.0     W         Y         Y               SR Created   \n",
       "3  Closed     2.0     N         N         Y               SR Created   \n",
       "4  Closed     6.0     W         Y         Y               SR Created   \n",
       "\n",
       "  streetname                          ncname                    apc  tbmpage  \\\n",
       "0  87TH       Empowerment Congress Southeast  South Los Angeles APC  704.0     \n",
       "1  NaN        NoHo                            South Valley APC       532.0     \n",
       "2  VICTORY    North Hollywood Northeast       South Valley APC       532.0     \n",
       "3  WILBUR     Tarzana                         South Valley APC       560.0     \n",
       "4  VICTORY    NoHo                            South Valley APC       532.0     \n",
       "\n",
       "   days_to_service  days_to_close  days_to_update  \n",
       "0  1.0              1.0            1.0             \n",
       "1  3.0              3.0            3.0             \n",
       "2  4.0              4.0            4.0             \n",
       "3  6.0              6.0            6.0             \n",
       "4  4.0              4.0            5.0             "
      ]
     },
     "execution_count": 94,
     "metadata": {},
     "output_type": "execute_result"
    }
   ],
   "source": [
    "df.head()"
   ]
  },
  {
   "cell_type": "code",
   "execution_count": 95,
   "metadata": {},
   "outputs": [
    {
     "data": {
      "text/plain": [
       "array(['Empowerment Congress Southeast', 'NoHo',\n",
       "       'North Hollywood Northeast', 'Tarzana', 'Mar Vista', 'Eagle Rock',\n",
       "       'CANNDU', 'LA32', 'Northwest San Pedro', 'Northridge West',\n",
       "       'Panorama City', 'Coastal San Pedro', 'West Hills', 'Arleta',\n",
       "       'Foothill Trails District', 'Empowerment Congress West',\n",
       "       'Greater Wilshire', 'Lake Balboa', 'Historic Highland Park',\n",
       "       'Reseda', 'Mid City West', 'Palms', 'North Hills East',\n",
       "       'Studio City', 'South Robertson', 'Echo Park', 'Central San Pedro',\n",
       "       'Granada Hills North', 'Olympic Park', 'Central Alameda',\n",
       "       'Pacoima', 'Bel Air-Beverly Crest', 'Porter Ranch', 'Sherman Oaks',\n",
       "       'Van Nuys', 'Mission Hills', 'Sylmar', 'Pico Union',\n",
       "       'Woodland Hills-Warner Center', 'Hollywood Hills West',\n",
       "       'Hollywood Studio District', 'Harbor Gateway North',\n",
       "       'Boyle Heights', 'Canoga Park', 'Lincoln Heights',\n",
       "       'Westchester/Playa', 'Greater Toluca Lake', 'P.I.C.O.',\n",
       "       'Greater Valley Glen', 'Valley Village', 'Arroyo Seco',\n",
       "       'Los Feliz', 'East Hollywood', 'United Neighborhoods',\n",
       "       'Historic Cultural North', 'Hollywood United', 'Atwater Village',\n",
       "       'Empowerment Congress Southwest', 'Mid City', 'West Adams',\n",
       "       'Northridge East', 'Downtown Los Angeles', 'Glassell Park',\n",
       "       'Wilshire Center Koreatown', 'Venice', 'Winnetka', 'South Central',\n",
       "       'Zapata King', 'Watts', 'Sunland-Tujunga', 'West LA - Sawtelle',\n",
       "       'Chatsworth', 'Voices', 'Sun Valley', 'Encino', 'Harbor City',\n",
       "       'Northridge South', 'North Hollywood West', 'Rampart Village',\n",
       "       'Granada Hills South', 'Empowerment Congress North', 'Silver Lake',\n",
       "       'Park Mesa Heights', 'Empowerment Congress Central',\n",
       "       'Westlake South', 'Westlake North', 'Del Rey', 'Westwood',\n",
       "       'Central Hollywood', 'Wilmington', 'Westside', 'North Hills West',\n",
       "       'MacArthur Park', 'North Westwood', 'Greater Cypress Park',\n",
       "       'Harbor Gateway South', 'EMPOWERMENT CONGRESS NORTH AREA NDC',\n",
       "       'Elysian Valley Riverside', 'Hermon', 'Arts District Little Tokyo',\n",
       "       'DOWNTOWN LOS ANGELES', 'NORTHRIDGE SOUTH NC', 'VAN NUYS NC',\n",
       "       'MAR VISTA CC', 'VENICE NC', 'HARBOR CITY NC', 'DEL REY NC',\n",
       "       'NC WESTCHESTER/PLAYA', 'WEST LOS ANGELES NC',\n",
       "       'CENTRAL HOLLYWOOD NC', 'SOUTH CENTRAL NC', 'MID CITY NC',\n",
       "       'EMPOWERMENT CONGRESS SOUTHEAST AREA NDC', 'P.I.C.O. NC',\n",
       "       'COASTAL SAN PEDRO NC', 'WILMINGTON NC', 'CENTRAL ALAMEDA NC',\n",
       "       'EMPOWERMENT CONGRESS WEST AREA NDC', 'TARZANA NC',\n",
       "       'GRANADA HILLS NORTH NC', 'SOUTH ROBERTSON NC', 'ARROYO SECO NC',\n",
       "       'SUN VALLEY AREA NC',\n",
       "       'UNITED NEIGHBORHOODS OF THE HISTORIC ARLINGTON HEIGHTS, WEST ADAMS, AND JEFFERSON PARK COMMUNITY',\n",
       "       'BOYLE HEIGHTS NC', 'EMPOWERMENT CONGRESS CENTRAL AREA NDC',\n",
       "       'SUNLAND-TUJUNGA NC', 'HOLLYWOOD UNITED NC',\n",
       "       'HISTORIC HIGHLAND PARK NC', 'WOODLAND HILLS-WARNER CENTER NC',\n",
       "       'BEL AIR-BEVERLY CREST NC', 'GREATER WILSHIRE NC', 'LA-32 NC',\n",
       "       'CHATSWORTH NC', 'GRANADA HILLS SOUTH NC', 'STUDIO CITY NC',\n",
       "       'EAST HOLLYWOOD NC', 'PICO UNION NC', 'ECHO PARK NC', 'SYLMAR NC',\n",
       "       'GREATER TOLUCA LAKE NC', 'WESTSIDE NC', 'ZAPATA KING NC',\n",
       "       'NORTH HILLS EAST', 'WINNETKA NC', 'MACARTHUR PARK NC',\n",
       "       'GLASSELL PARK NC', 'SHERMAN OAKS NC', 'NOHO NC',\n",
       "       'LINCOLN HEIGHTS NC', 'WILSHIRE CENTER - KOREATOWN NC',\n",
       "       'NORTHRIDGE EAST', 'GREATER VALLEY GLEN COUNCIL', 'NOHO WEST NC',\n",
       "       'WATTS NC', 'MID CITY WEST CC', 'RESEDA NC', 'EAGLE ROCK NC',\n",
       "       'WEST ADAMS NC', 'LOS FELIZ NC', 'FOOTHILL TRAILS DISTRICT NC',\n",
       "       'CENTRAL SAN PEDRO NC', 'WEST HILLS NC', 'LAKE BALBOA NC',\n",
       "       'SILVER LAKE NC', 'NORTH WESTWOOD NC', 'PARK MESA HEIGHTS CC',\n",
       "       'NORTHRIDGE WEST', 'PACOIMA NC',\n",
       "       'COMMUNITY AND NEIGHBORS FOR NINTH DISTRICT UNITY (CANNDU)',\n",
       "       'UNITED FOR VICTORY', 'RAMPART VILLAGE NC', 'CANOGA PARK NC',\n",
       "       'VOICES OF 90037', 'PORTER RANCH NC',\n",
       "       'HOLLYWOOD STUDIO DISTRICT NC',\n",
       "       'EMPOWERMENT CONGRESS SOUTHWEST AREA NDC', 'MISSION HILLS NC',\n",
       "       'WESTLAKE NORTH NC', 'WESTLAKE SOUTH NC', 'NC VALLEY VILLAGE',\n",
       "       'HARBOR GATEWAY SOUTH NC', 'HARBOR GATEWAY NORTH NC', 'ENCINO NC',\n",
       "       'PALMS NC', 'HERMON NC', 'WESTWOOD NC', 'ATWATER VILLAGE NC',\n",
       "       'NORTH HOLLYWOOD NORTHEAST NC', 'PANORAMA CITY NC', 'BRENTWOOD CC',\n",
       "       'OLYMPIC PARK NC', 'ARLETA NC', 'NORTHWEST SAN PEDRO NC',\n",
       "       'ELYSIAN VALLEY RIVERSIDE NC', 'HOLLYWOOD HILLS WEST NC',\n",
       "       'PACIFIC PALISADES NC', 'GREATER CYPRESS PARK NC',\n",
       "       'HISTORIC CULTURAL NORTH NC', 'NORTH HILLS WEST NC',\n",
       "       'HISTORIC CULTURAL NC', 'OLD NORTHRIDGE CC',\n",
       "       'HISTORIC FILIPINOTOWN NC'], dtype=object)"
      ]
     },
     "execution_count": 95,
     "metadata": {},
     "output_type": "execute_result"
    }
   ],
   "source": [
    "df['ncname'].unique()"
   ]
  },
  {
   "cell_type": "code",
   "execution_count": 96,
   "metadata": {},
   "outputs": [
    {
     "data": {
      "text/plain": [
       "203"
      ]
     },
     "execution_count": 96,
     "metadata": {},
     "output_type": "execute_result"
    }
   ],
   "source": [
    "df['ncname'].nunique()"
   ]
  },
  {
   "cell_type": "code",
   "execution_count": 97,
   "metadata": {},
   "outputs": [
    {
     "data": {
      "text/plain": [
       "15"
      ]
     },
     "execution_count": 97,
     "metadata": {},
     "output_type": "execute_result"
    }
   ],
   "source": [
    "df['cd'].nunique()"
   ]
  },
  {
   "cell_type": "code",
   "execution_count": 98,
   "metadata": {},
   "outputs": [
    {
     "data": {
      "text/plain": [
       "21"
      ]
     },
     "execution_count": 98,
     "metadata": {},
     "output_type": "execute_result"
    }
   ],
   "source": [
    "df['policeprecinct'].nunique()\n"
   ]
  },
  {
   "cell_type": "markdown",
   "metadata": {},
   "source": [
    "**most recent council district boundary has been updated in 2012**\n",
    "\n",
    "- District 1: Gil Cedillo X\n",
    "- District 2: Paul Krekorian X\n",
    "- District 3: Bob Blumenfield X\n",
    "- District 4: Nithya Raman X\n",
    "- District 5: Paul Koretz X\n",
    "- District 6: Nury Martinez (President) X\n",
    "- District 7: Monica Rodriguez X\n",
    "- District 8: Marqueece Harris-Dawson X\n",
    "- District 9: Curren Price X\n",
    "- District 10: Mark Ridley-Thomas Los Angeles City Council Member since 2020 (NEWLY elected possibly to district 10)\n",
    "- District 11: Mike Bonin X\n",
    "- District 12: John Lee[1] X\n",
    "- District 13: Mitch O'Farrell X\n",
    "- District 14: Kevin De Leon X\n",
    "- District 15: Joe Buscaino X\n",
    "\n",
    "    \n",
    "**NOT ON WIKIPEDIA:**\n",
    "- Herb Wesson (former, distrct 10)\n",
    "- Jose Huizar (former district member; left in 2020, arrested and indicted on corruption charges in 2020 for district 14)\n",
    "- David Ryu (former district 4), replaced by Nithya Raman in 2020\n",
    "- Greig Smith (former district 12, replaced by Mitch O'Farrell in 2019/2020)\n",
    "- Mitchell Englander (former for district 12, resigned in 2018)"
   ]
  },
  {
   "cell_type": "code",
   "execution_count": 99,
   "metadata": {},
   "outputs": [
    {
     "data": {
      "text/plain": [
       "array(['Marqueece Harris-Dawson', 'Paul Krekorian', 'Bob Blumenfield',\n",
       "       'Mike Bonin', 'Kevin de León', 'Curren D. Price Jr.',\n",
       "       'Joe Buscaino', 'John Lee', 'Nury Martinez', 'Monica Rodriguez',\n",
       "       'Mark Ridley-Thomas', 'Paul Koretz', 'Gilbert Cedillo',\n",
       "       \"Mitch O'Farrell\", 'Nithya Raman', 'Jose Huizar',\n",
       "       'Herb J. Wesson Jr.', 'David Ryu', 'Greig Smith',\n",
       "       'Mitchell Englander'], dtype=object)"
      ]
     },
     "execution_count": 99,
     "metadata": {},
     "output_type": "execute_result"
    }
   ],
   "source": [
    "df['cdmember'].unique()"
   ]
  },
  {
   "cell_type": "code",
   "execution_count": 100,
   "metadata": {},
   "outputs": [
    {
     "data": {
      "text/plain": [
       "(1145748, 38)"
      ]
     },
     "execution_count": 100,
     "metadata": {},
     "output_type": "execute_result"
    }
   ],
   "source": [
    "df.shape"
   ]
  },
  {
   "cell_type": "markdown",
   "metadata": {},
   "source": [
    "# preparing dataset for dahsboard widget"
   ]
  },
  {
   "cell_type": "code",
   "execution_count": 101,
   "metadata": {},
   "outputs": [],
   "source": [
    "# change date to date time colum\n",
    "df['createddate'] = pd.to_datetime(df['createddate'])\n",
    "df['servicedate'] = pd.to_datetime(df['servicedate'])"
   ]
  },
  {
   "cell_type": "code",
   "execution_count": 102,
   "metadata": {},
   "outputs": [],
   "source": [
    "# create month and year columns\n",
    "df['created_year'] = pd.DatetimeIndex(df['createddate']).year\n",
    "df['created_month'] = pd.DatetimeIndex(df['createddate']).month\n",
    "\n",
    "df['serviced_year'] = pd.DatetimeIndex(df['servicedate']).year\n",
    "df['serviced_month'] = pd.DatetimeIndex(df['servicedate']).month"
   ]
  },
  {
   "cell_type": "code",
   "execution_count": 103,
   "metadata": {},
   "outputs": [],
   "source": [
    "# grouby createddate (month and year), cd, requesttype, count number of listings\n",
    "grouped_df = df.groupby(['created_month', 'created_year', 'cd', 'requesttype'])['requesttype'].count().reset_index(name = 'count_service')\n"
   ]
  },
  {
   "cell_type": "code",
   "execution_count": 104,
   "metadata": {},
   "outputs": [
    {
     "data": {
      "text/html": [
       "<div>\n",
       "<style scoped>\n",
       "    .dataframe tbody tr th:only-of-type {\n",
       "        vertical-align: middle;\n",
       "    }\n",
       "\n",
       "    .dataframe tbody tr th {\n",
       "        vertical-align: top;\n",
       "    }\n",
       "\n",
       "    .dataframe thead th {\n",
       "        text-align: right;\n",
       "    }\n",
       "</style>\n",
       "<table border=\"1\" class=\"dataframe\">\n",
       "  <thead>\n",
       "    <tr style=\"text-align: right;\">\n",
       "      <th></th>\n",
       "      <th>created_month</th>\n",
       "      <th>created_year</th>\n",
       "      <th>cd</th>\n",
       "      <th>requesttype</th>\n",
       "      <th>count_service</th>\n",
       "    </tr>\n",
       "  </thead>\n",
       "  <tbody>\n",
       "    <tr>\n",
       "      <th>0</th>\n",
       "      <td>1</td>\n",
       "      <td>2020</td>\n",
       "      <td>1</td>\n",
       "      <td>Bulky Items</td>\n",
       "      <td>3088</td>\n",
       "    </tr>\n",
       "    <tr>\n",
       "      <th>1</th>\n",
       "      <td>1</td>\n",
       "      <td>2020</td>\n",
       "      <td>1</td>\n",
       "      <td>Electronic Waste</td>\n",
       "      <td>203</td>\n",
       "    </tr>\n",
       "    <tr>\n",
       "      <th>2</th>\n",
       "      <td>1</td>\n",
       "      <td>2020</td>\n",
       "      <td>1</td>\n",
       "      <td>Graffiti Removal</td>\n",
       "      <td>1206</td>\n",
       "    </tr>\n",
       "    <tr>\n",
       "      <th>3</th>\n",
       "      <td>1</td>\n",
       "      <td>2020</td>\n",
       "      <td>1</td>\n",
       "      <td>Homeless Encampment</td>\n",
       "      <td>231</td>\n",
       "    </tr>\n",
       "    <tr>\n",
       "      <th>4</th>\n",
       "      <td>1</td>\n",
       "      <td>2020</td>\n",
       "      <td>1</td>\n",
       "      <td>Illegal Dumping Pickup</td>\n",
       "      <td>568</td>\n",
       "    </tr>\n",
       "  </tbody>\n",
       "</table>\n",
       "</div>"
      ],
      "text/plain": [
       "   created_month  created_year  cd             requesttype  count_service\n",
       "0  1              2020          1   Bulky Items             3088         \n",
       "1  1              2020          1   Electronic Waste        203          \n",
       "2  1              2020          1   Graffiti Removal        1206         \n",
       "3  1              2020          1   Homeless Encampment     231          \n",
       "4  1              2020          1   Illegal Dumping Pickup  568          "
      ]
     },
     "execution_count": 104,
     "metadata": {},
     "output_type": "execute_result"
    }
   ],
   "source": [
    "# get total of grouped services into a single \n",
    "grouped_df.head()"
   ]
  },
  {
   "cell_type": "code",
   "execution_count": 105,
   "metadata": {},
   "outputs": [],
   "source": [
    "# count total services requested by month/year/cd\n",
    "grouped_count_df = df.groupby(['created_month', 'created_year', 'cd'])['createddate'].count().reset_index(name = 'total_requests')"
   ]
  },
  {
   "cell_type": "code",
   "execution_count": 106,
   "metadata": {},
   "outputs": [
    {
     "data": {
      "text/html": [
       "<div>\n",
       "<style scoped>\n",
       "    .dataframe tbody tr th:only-of-type {\n",
       "        vertical-align: middle;\n",
       "    }\n",
       "\n",
       "    .dataframe tbody tr th {\n",
       "        vertical-align: top;\n",
       "    }\n",
       "\n",
       "    .dataframe thead th {\n",
       "        text-align: right;\n",
       "    }\n",
       "</style>\n",
       "<table border=\"1\" class=\"dataframe\">\n",
       "  <thead>\n",
       "    <tr style=\"text-align: right;\">\n",
       "      <th></th>\n",
       "      <th>created_month</th>\n",
       "      <th>created_year</th>\n",
       "      <th>cd</th>\n",
       "      <th>total_requests</th>\n",
       "    </tr>\n",
       "  </thead>\n",
       "  <tbody>\n",
       "    <tr>\n",
       "      <th>0</th>\n",
       "      <td>1</td>\n",
       "      <td>2020</td>\n",
       "      <td>1</td>\n",
       "      <td>5890</td>\n",
       "    </tr>\n",
       "    <tr>\n",
       "      <th>1</th>\n",
       "      <td>1</td>\n",
       "      <td>2020</td>\n",
       "      <td>2</td>\n",
       "      <td>6694</td>\n",
       "    </tr>\n",
       "    <tr>\n",
       "      <th>2</th>\n",
       "      <td>1</td>\n",
       "      <td>2020</td>\n",
       "      <td>3</td>\n",
       "      <td>6079</td>\n",
       "    </tr>\n",
       "    <tr>\n",
       "      <th>3</th>\n",
       "      <td>1</td>\n",
       "      <td>2020</td>\n",
       "      <td>4</td>\n",
       "      <td>5891</td>\n",
       "    </tr>\n",
       "    <tr>\n",
       "      <th>4</th>\n",
       "      <td>1</td>\n",
       "      <td>2020</td>\n",
       "      <td>5</td>\n",
       "      <td>4826</td>\n",
       "    </tr>\n",
       "  </tbody>\n",
       "</table>\n",
       "</div>"
      ],
      "text/plain": [
       "   created_month  created_year  cd  total_requests\n",
       "0  1              2020          1   5890          \n",
       "1  1              2020          2   6694          \n",
       "2  1              2020          3   6079          \n",
       "3  1              2020          4   5891          \n",
       "4  1              2020          5   4826          "
      ]
     },
     "execution_count": 106,
     "metadata": {},
     "output_type": "execute_result"
    }
   ],
   "source": [
    "grouped_count_df.head()"
   ]
  },
  {
   "cell_type": "code",
   "execution_count": 107,
   "metadata": {},
   "outputs": [
    {
     "data": {
      "text/html": [
       "<div>\n",
       "<style scoped>\n",
       "    .dataframe tbody tr th:only-of-type {\n",
       "        vertical-align: middle;\n",
       "    }\n",
       "\n",
       "    .dataframe tbody tr th {\n",
       "        vertical-align: top;\n",
       "    }\n",
       "\n",
       "    .dataframe thead th {\n",
       "        text-align: right;\n",
       "    }\n",
       "</style>\n",
       "<table border=\"1\" class=\"dataframe\">\n",
       "  <thead>\n",
       "    <tr style=\"text-align: right;\">\n",
       "      <th></th>\n",
       "      <th>created_month</th>\n",
       "      <th>created_year</th>\n",
       "      <th>cd</th>\n",
       "      <th>requesttype</th>\n",
       "      <th>avg_request_closed</th>\n",
       "    </tr>\n",
       "  </thead>\n",
       "  <tbody>\n",
       "    <tr>\n",
       "      <th>0</th>\n",
       "      <td>1</td>\n",
       "      <td>2020</td>\n",
       "      <td>1</td>\n",
       "      <td>Bulky Items</td>\n",
       "      <td>4</td>\n",
       "    </tr>\n",
       "    <tr>\n",
       "      <th>1</th>\n",
       "      <td>1</td>\n",
       "      <td>2020</td>\n",
       "      <td>1</td>\n",
       "      <td>Electronic Waste</td>\n",
       "      <td>3</td>\n",
       "    </tr>\n",
       "    <tr>\n",
       "      <th>2</th>\n",
       "      <td>1</td>\n",
       "      <td>2020</td>\n",
       "      <td>1</td>\n",
       "      <td>Graffiti Removal</td>\n",
       "      <td>4</td>\n",
       "    </tr>\n",
       "    <tr>\n",
       "      <th>3</th>\n",
       "      <td>1</td>\n",
       "      <td>2020</td>\n",
       "      <td>1</td>\n",
       "      <td>Homeless Encampment</td>\n",
       "      <td>56</td>\n",
       "    </tr>\n",
       "    <tr>\n",
       "      <th>4</th>\n",
       "      <td>1</td>\n",
       "      <td>2020</td>\n",
       "      <td>1</td>\n",
       "      <td>Illegal Dumping Pickup</td>\n",
       "      <td>11</td>\n",
       "    </tr>\n",
       "  </tbody>\n",
       "</table>\n",
       "</div>"
      ],
      "text/plain": [
       "   created_month  created_year  cd             requesttype  avg_request_closed\n",
       "0  1              2020          1   Bulky Items             4                 \n",
       "1  1              2020          1   Electronic Waste        3                 \n",
       "2  1              2020          1   Graffiti Removal        4                 \n",
       "3  1              2020          1   Homeless Encampment     56                \n",
       "4  1              2020          1   Illegal Dumping Pickup  11                "
      ]
     },
     "execution_count": 107,
     "metadata": {},
     "output_type": "execute_result"
    }
   ],
   "source": [
    "# grouby createddate (month and year), cd, requesttype, count number of listings\n",
    "grouped_average_date_df = df.groupby(['created_month', 'created_year', 'cd', 'requesttype'])['days_to_close'].mean().reset_index(name = 'avg_request_closed')\n",
    "\n",
    "grouped_average_date_df['avg_request_closed'] = grouped_average_date_df['avg_request_closed'].round().astype(int)\n",
    "grouped_average_date_df.head()\n"
   ]
  },
  {
   "cell_type": "code",
   "execution_count": 108,
   "metadata": {},
   "outputs": [],
   "source": [
    "# rename months\n",
    "month_dict = {1: 'January', \n",
    "              2: 'February', \n",
    "              3: 'March',\n",
    "              4: 'April', \n",
    "              5: 'May', \n",
    "              6: 'June', \n",
    "              7: 'July', \n",
    "              8: 'August',\n",
    "              9: 'September', \n",
    "              10: 'October',\n",
    "              11: 'November', \n",
    "              12: 'December'}\n"
   ]
  },
  {
   "cell_type": "code",
   "execution_count": 109,
   "metadata": {},
   "outputs": [],
   "source": [
    "# map new values to months\n",
    "grouped_df['created_month'] = grouped_df['created_month'].replace(month_dict)\n",
    "grouped_df['serviced_month'] = grouped_df['created_month'].replace(month_dict)\n",
    "\n",
    "grouped_count_df['created_month'] = grouped_count_df['created_month'].replace(month_dict)\n",
    "grouped_count_df['serviced_month'] = grouped_count_df['created_month'].replace(month_dict)\n",
    "\n",
    "grouped_average_date_df['created_month'] = grouped_average_date_df['created_month'].replace(month_dict)\n",
    "grouped_average_date_df['serviced_month'] = grouped_average_date_df['created_month'].replace(month_dict)\n"
   ]
  },
  {
   "cell_type": "code",
   "execution_count": 111,
   "metadata": {},
   "outputs": [],
   "source": [
    "# merge both dataframes together\n",
    "final_df = pd.merge(grouped_count_df, grouped_df, how = 'outer')\n",
    "final_df = pd.merge(final_df, grouped_average_date_df, how = 'outer')"
   ]
  },
  {
   "cell_type": "code",
   "execution_count": 112,
   "metadata": {},
   "outputs": [],
   "source": [
    "# calculate percentage\n",
    "final_df['percentage_service'] = round((final_df['count_service']/final_df['total_requests']) * 100, 2)\n"
   ]
  },
  {
   "cell_type": "code",
   "execution_count": 113,
   "metadata": {},
   "outputs": [],
   "source": [
    "# rename council districts\n",
    "final_df['cd'] = 'Council District ' + final_df['cd'].astype(str)\n"
   ]
  },
  {
   "cell_type": "code",
   "execution_count": 114,
   "metadata": {},
   "outputs": [
    {
     "data": {
      "text/html": [
       "<div>\n",
       "<style scoped>\n",
       "    .dataframe tbody tr th:only-of-type {\n",
       "        vertical-align: middle;\n",
       "    }\n",
       "\n",
       "    .dataframe tbody tr th {\n",
       "        vertical-align: top;\n",
       "    }\n",
       "\n",
       "    .dataframe thead th {\n",
       "        text-align: right;\n",
       "    }\n",
       "</style>\n",
       "<table border=\"1\" class=\"dataframe\">\n",
       "  <thead>\n",
       "    <tr style=\"text-align: right;\">\n",
       "      <th></th>\n",
       "      <th>created_month</th>\n",
       "      <th>created_year</th>\n",
       "      <th>cd</th>\n",
       "      <th>total_requests</th>\n",
       "      <th>serviced_month</th>\n",
       "      <th>requesttype</th>\n",
       "      <th>count_service</th>\n",
       "      <th>avg_request_closed</th>\n",
       "      <th>percentage_service</th>\n",
       "    </tr>\n",
       "  </thead>\n",
       "  <tbody>\n",
       "    <tr>\n",
       "      <th>0</th>\n",
       "      <td>January</td>\n",
       "      <td>2020</td>\n",
       "      <td>Council District 1</td>\n",
       "      <td>5890</td>\n",
       "      <td>January</td>\n",
       "      <td>Bulky Items</td>\n",
       "      <td>3088</td>\n",
       "      <td>4</td>\n",
       "      <td>52.43</td>\n",
       "    </tr>\n",
       "    <tr>\n",
       "      <th>1</th>\n",
       "      <td>January</td>\n",
       "      <td>2020</td>\n",
       "      <td>Council District 1</td>\n",
       "      <td>5890</td>\n",
       "      <td>January</td>\n",
       "      <td>Electronic Waste</td>\n",
       "      <td>203</td>\n",
       "      <td>3</td>\n",
       "      <td>3.45</td>\n",
       "    </tr>\n",
       "    <tr>\n",
       "      <th>2</th>\n",
       "      <td>January</td>\n",
       "      <td>2020</td>\n",
       "      <td>Council District 1</td>\n",
       "      <td>5890</td>\n",
       "      <td>January</td>\n",
       "      <td>Graffiti Removal</td>\n",
       "      <td>1206</td>\n",
       "      <td>4</td>\n",
       "      <td>20.48</td>\n",
       "    </tr>\n",
       "    <tr>\n",
       "      <th>3</th>\n",
       "      <td>January</td>\n",
       "      <td>2020</td>\n",
       "      <td>Council District 1</td>\n",
       "      <td>5890</td>\n",
       "      <td>January</td>\n",
       "      <td>Homeless Encampment</td>\n",
       "      <td>231</td>\n",
       "      <td>56</td>\n",
       "      <td>3.92</td>\n",
       "    </tr>\n",
       "    <tr>\n",
       "      <th>4</th>\n",
       "      <td>January</td>\n",
       "      <td>2020</td>\n",
       "      <td>Council District 1</td>\n",
       "      <td>5890</td>\n",
       "      <td>January</td>\n",
       "      <td>Illegal Dumping Pickup</td>\n",
       "      <td>568</td>\n",
       "      <td>11</td>\n",
       "      <td>9.64</td>\n",
       "    </tr>\n",
       "  </tbody>\n",
       "</table>\n",
       "</div>"
      ],
      "text/plain": [
       "  created_month  created_year                  cd  total_requests  \\\n",
       "0  January       2020          Council District 1  5890             \n",
       "1  January       2020          Council District 1  5890             \n",
       "2  January       2020          Council District 1  5890             \n",
       "3  January       2020          Council District 1  5890             \n",
       "4  January       2020          Council District 1  5890             \n",
       "\n",
       "  serviced_month             requesttype  count_service  avg_request_closed  \\\n",
       "0  January        Bulky Items             3088           4                    \n",
       "1  January        Electronic Waste        203            3                    \n",
       "2  January        Graffiti Removal        1206           4                    \n",
       "3  January        Homeless Encampment     231            56                   \n",
       "4  January        Illegal Dumping Pickup  568            11                   \n",
       "\n",
       "   percentage_service  \n",
       "0  52.43               \n",
       "1  3.45                \n",
       "2  20.48               \n",
       "3  3.92                \n",
       "4  9.64                "
      ]
     },
     "execution_count": 114,
     "metadata": {},
     "output_type": "execute_result"
    }
   ],
   "source": [
    "final_df.head()"
   ]
  },
  {
   "cell_type": "code",
   "execution_count": 115,
   "metadata": {},
   "outputs": [],
   "source": [
    "# create csv\n",
    "os.chdir(BASE_DIR + 'scripts/interactive/')\n",
    "final_df.to_csv('distribution_requests_by_date_cd.csv', index = False)"
   ]
  },
  {
   "cell_type": "markdown",
   "metadata": {},
   "source": [
    "# create plotly plot"
   ]
  },
  {
   "cell_type": "code",
   "execution_count": 116,
   "metadata": {},
   "outputs": [],
   "source": [
    "# create your mask filter\n",
    "temp = final_df.loc[final_df['cd'] == 'Council District 1']\n",
    "    \n",
    "# filter by month and year as well\n",
    "temp = temp.loc[final_df['created_month'] == 'January']\n",
    "temp = temp.loc[final_df['created_year'] == 2020]\n"
   ]
  },
  {
   "cell_type": "code",
   "execution_count": 117,
   "metadata": {
    "collapsed": true
   },
   "outputs": [
    {
     "data": {
      "text/html": [
       "<div>\n",
       "<style scoped>\n",
       "    .dataframe tbody tr th:only-of-type {\n",
       "        vertical-align: middle;\n",
       "    }\n",
       "\n",
       "    .dataframe tbody tr th {\n",
       "        vertical-align: top;\n",
       "    }\n",
       "\n",
       "    .dataframe thead th {\n",
       "        text-align: right;\n",
       "    }\n",
       "</style>\n",
       "<table border=\"1\" class=\"dataframe\">\n",
       "  <thead>\n",
       "    <tr style=\"text-align: right;\">\n",
       "      <th></th>\n",
       "      <th>created_month</th>\n",
       "      <th>created_year</th>\n",
       "      <th>cd</th>\n",
       "      <th>total_requests</th>\n",
       "      <th>serviced_month</th>\n",
       "      <th>requesttype</th>\n",
       "      <th>count_service</th>\n",
       "      <th>avg_request_closed</th>\n",
       "      <th>percentage_service</th>\n",
       "    </tr>\n",
       "  </thead>\n",
       "  <tbody>\n",
       "    <tr>\n",
       "      <th>0</th>\n",
       "      <td>January</td>\n",
       "      <td>2020</td>\n",
       "      <td>Council District 1</td>\n",
       "      <td>5890</td>\n",
       "      <td>January</td>\n",
       "      <td>Bulky Items</td>\n",
       "      <td>3088</td>\n",
       "      <td>4</td>\n",
       "      <td>52.43</td>\n",
       "    </tr>\n",
       "    <tr>\n",
       "      <th>1</th>\n",
       "      <td>January</td>\n",
       "      <td>2020</td>\n",
       "      <td>Council District 1</td>\n",
       "      <td>5890</td>\n",
       "      <td>January</td>\n",
       "      <td>Electronic Waste</td>\n",
       "      <td>203</td>\n",
       "      <td>3</td>\n",
       "      <td>3.45</td>\n",
       "    </tr>\n",
       "    <tr>\n",
       "      <th>2</th>\n",
       "      <td>January</td>\n",
       "      <td>2020</td>\n",
       "      <td>Council District 1</td>\n",
       "      <td>5890</td>\n",
       "      <td>January</td>\n",
       "      <td>Graffiti Removal</td>\n",
       "      <td>1206</td>\n",
       "      <td>4</td>\n",
       "      <td>20.48</td>\n",
       "    </tr>\n",
       "    <tr>\n",
       "      <th>3</th>\n",
       "      <td>January</td>\n",
       "      <td>2020</td>\n",
       "      <td>Council District 1</td>\n",
       "      <td>5890</td>\n",
       "      <td>January</td>\n",
       "      <td>Homeless Encampment</td>\n",
       "      <td>231</td>\n",
       "      <td>56</td>\n",
       "      <td>3.92</td>\n",
       "    </tr>\n",
       "    <tr>\n",
       "      <th>4</th>\n",
       "      <td>January</td>\n",
       "      <td>2020</td>\n",
       "      <td>Council District 1</td>\n",
       "      <td>5890</td>\n",
       "      <td>January</td>\n",
       "      <td>Illegal Dumping Pickup</td>\n",
       "      <td>568</td>\n",
       "      <td>11</td>\n",
       "      <td>9.64</td>\n",
       "    </tr>\n",
       "  </tbody>\n",
       "</table>\n",
       "</div>"
      ],
      "text/plain": [
       "  created_month  created_year                  cd  total_requests  \\\n",
       "0  January       2020          Council District 1  5890             \n",
       "1  January       2020          Council District 1  5890             \n",
       "2  January       2020          Council District 1  5890             \n",
       "3  January       2020          Council District 1  5890             \n",
       "4  January       2020          Council District 1  5890             \n",
       "\n",
       "  serviced_month             requesttype  count_service  avg_request_closed  \\\n",
       "0  January        Bulky Items             3088           4                    \n",
       "1  January        Electronic Waste        203            3                    \n",
       "2  January        Graffiti Removal        1206           4                    \n",
       "3  January        Homeless Encampment     231            56                   \n",
       "4  January        Illegal Dumping Pickup  568            11                   \n",
       "\n",
       "   percentage_service  \n",
       "0  52.43               \n",
       "1  3.45                \n",
       "2  20.48               \n",
       "3  3.92                \n",
       "4  9.64                "
      ]
     },
     "execution_count": 117,
     "metadata": {},
     "output_type": "execute_result"
    }
   ],
   "source": [
    "temp.head()"
   ]
  },
  {
   "cell_type": "code",
   "execution_count": 136,
   "metadata": {},
   "outputs": [
    {
     "data": {
      "application/vnd.plotly.v1+json": {
       "config": {
        "plotlyServerURL": "https://plot.ly"
       },
       "data": [
        {
         "marker": {
          "color": "rgba(50, 171, 96, 0.6)",
          "line": {
           "color": "rgba(50, 171, 96, 1.0)",
           "width": 1
          }
         },
         "name": "Number of service requests per month",
         "orientation": "h",
         "type": "bar",
         "x": [
          3088,
          203,
          1206,
          231,
          568,
          489,
          33,
          72
         ],
         "xaxis": "x",
         "y": [
          "Bulky Items",
          "Electronic Waste",
          "Graffiti Removal",
          "Homeless Encampment",
          "Illegal Dumping Pickup",
          "Metal/Household Appliances",
          "Multiple Streetlight Issue",
          "Single Streetlight Issue"
         ],
         "yaxis": "y"
        },
        {
         "marker": {
          "color": "rgba(128, 0, 128, 0.6)",
          "line": {
           "color": "rgba(128, 0, 128, 1.0)",
           "width": 1
          }
         },
         "name": "Average number of days to close request",
         "orientation": "h",
         "type": "bar",
         "x": [
          4,
          3,
          4,
          56,
          11,
          3,
          40,
          46
         ],
         "xaxis": "x2",
         "y": [
          "Bulky Items",
          "Electronic Waste",
          "Graffiti Removal",
          "Homeless Encampment",
          "Illegal Dumping Pickup",
          "Metal/Household Appliances",
          "Multiple Streetlight Issue",
          "Single Streetlight Issue"
         ],
         "yaxis": "y2"
        }
       ],
       "layout": {
        "annotations": [
         {
          "font": {
           "color": "rgb(150, 150, 150)",
           "family": "Arial",
           "size": 10
          },
          "showarrow": false,
          "text": " WHEREVER WE GOT THIS DATASET FROM...",
          "x": -0.2,
          "xref": "paper",
          "y": -0.109,
          "yref": "paper"
         }
        ],
        "template": {
         "data": {
          "bar": [
           {
            "error_x": {
             "color": "#f2f5fa"
            },
            "error_y": {
             "color": "#f2f5fa"
            },
            "marker": {
             "line": {
              "color": "rgb(17,17,17)",
              "width": 0.5
             }
            },
            "type": "bar"
           }
          ],
          "barpolar": [
           {
            "marker": {
             "line": {
              "color": "rgb(17,17,17)",
              "width": 0.5
             }
            },
            "type": "barpolar"
           }
          ],
          "carpet": [
           {
            "aaxis": {
             "endlinecolor": "#A2B1C6",
             "gridcolor": "#506784",
             "linecolor": "#506784",
             "minorgridcolor": "#506784",
             "startlinecolor": "#A2B1C6"
            },
            "baxis": {
             "endlinecolor": "#A2B1C6",
             "gridcolor": "#506784",
             "linecolor": "#506784",
             "minorgridcolor": "#506784",
             "startlinecolor": "#A2B1C6"
            },
            "type": "carpet"
           }
          ],
          "choropleth": [
           {
            "colorbar": {
             "outlinewidth": 0,
             "ticks": ""
            },
            "type": "choropleth"
           }
          ],
          "contour": [
           {
            "colorbar": {
             "outlinewidth": 0,
             "ticks": ""
            },
            "colorscale": [
             [
              0,
              "#0d0887"
             ],
             [
              0.1111111111111111,
              "#46039f"
             ],
             [
              0.2222222222222222,
              "#7201a8"
             ],
             [
              0.3333333333333333,
              "#9c179e"
             ],
             [
              0.4444444444444444,
              "#bd3786"
             ],
             [
              0.5555555555555556,
              "#d8576b"
             ],
             [
              0.6666666666666666,
              "#ed7953"
             ],
             [
              0.7777777777777778,
              "#fb9f3a"
             ],
             [
              0.8888888888888888,
              "#fdca26"
             ],
             [
              1,
              "#f0f921"
             ]
            ],
            "type": "contour"
           }
          ],
          "contourcarpet": [
           {
            "colorbar": {
             "outlinewidth": 0,
             "ticks": ""
            },
            "type": "contourcarpet"
           }
          ],
          "heatmap": [
           {
            "colorbar": {
             "outlinewidth": 0,
             "ticks": ""
            },
            "colorscale": [
             [
              0,
              "#0d0887"
             ],
             [
              0.1111111111111111,
              "#46039f"
             ],
             [
              0.2222222222222222,
              "#7201a8"
             ],
             [
              0.3333333333333333,
              "#9c179e"
             ],
             [
              0.4444444444444444,
              "#bd3786"
             ],
             [
              0.5555555555555556,
              "#d8576b"
             ],
             [
              0.6666666666666666,
              "#ed7953"
             ],
             [
              0.7777777777777778,
              "#fb9f3a"
             ],
             [
              0.8888888888888888,
              "#fdca26"
             ],
             [
              1,
              "#f0f921"
             ]
            ],
            "type": "heatmap"
           }
          ],
          "heatmapgl": [
           {
            "colorbar": {
             "outlinewidth": 0,
             "ticks": ""
            },
            "colorscale": [
             [
              0,
              "#0d0887"
             ],
             [
              0.1111111111111111,
              "#46039f"
             ],
             [
              0.2222222222222222,
              "#7201a8"
             ],
             [
              0.3333333333333333,
              "#9c179e"
             ],
             [
              0.4444444444444444,
              "#bd3786"
             ],
             [
              0.5555555555555556,
              "#d8576b"
             ],
             [
              0.6666666666666666,
              "#ed7953"
             ],
             [
              0.7777777777777778,
              "#fb9f3a"
             ],
             [
              0.8888888888888888,
              "#fdca26"
             ],
             [
              1,
              "#f0f921"
             ]
            ],
            "type": "heatmapgl"
           }
          ],
          "histogram": [
           {
            "marker": {
             "colorbar": {
              "outlinewidth": 0,
              "ticks": ""
             }
            },
            "type": "histogram"
           }
          ],
          "histogram2d": [
           {
            "colorbar": {
             "outlinewidth": 0,
             "ticks": ""
            },
            "colorscale": [
             [
              0,
              "#0d0887"
             ],
             [
              0.1111111111111111,
              "#46039f"
             ],
             [
              0.2222222222222222,
              "#7201a8"
             ],
             [
              0.3333333333333333,
              "#9c179e"
             ],
             [
              0.4444444444444444,
              "#bd3786"
             ],
             [
              0.5555555555555556,
              "#d8576b"
             ],
             [
              0.6666666666666666,
              "#ed7953"
             ],
             [
              0.7777777777777778,
              "#fb9f3a"
             ],
             [
              0.8888888888888888,
              "#fdca26"
             ],
             [
              1,
              "#f0f921"
             ]
            ],
            "type": "histogram2d"
           }
          ],
          "histogram2dcontour": [
           {
            "colorbar": {
             "outlinewidth": 0,
             "ticks": ""
            },
            "colorscale": [
             [
              0,
              "#0d0887"
             ],
             [
              0.1111111111111111,
              "#46039f"
             ],
             [
              0.2222222222222222,
              "#7201a8"
             ],
             [
              0.3333333333333333,
              "#9c179e"
             ],
             [
              0.4444444444444444,
              "#bd3786"
             ],
             [
              0.5555555555555556,
              "#d8576b"
             ],
             [
              0.6666666666666666,
              "#ed7953"
             ],
             [
              0.7777777777777778,
              "#fb9f3a"
             ],
             [
              0.8888888888888888,
              "#fdca26"
             ],
             [
              1,
              "#f0f921"
             ]
            ],
            "type": "histogram2dcontour"
           }
          ],
          "mesh3d": [
           {
            "colorbar": {
             "outlinewidth": 0,
             "ticks": ""
            },
            "type": "mesh3d"
           }
          ],
          "parcoords": [
           {
            "line": {
             "colorbar": {
              "outlinewidth": 0,
              "ticks": ""
             }
            },
            "type": "parcoords"
           }
          ],
          "pie": [
           {
            "automargin": true,
            "type": "pie"
           }
          ],
          "scatter": [
           {
            "marker": {
             "line": {
              "color": "#283442"
             }
            },
            "type": "scatter"
           }
          ],
          "scatter3d": [
           {
            "line": {
             "colorbar": {
              "outlinewidth": 0,
              "ticks": ""
             }
            },
            "marker": {
             "colorbar": {
              "outlinewidth": 0,
              "ticks": ""
             }
            },
            "type": "scatter3d"
           }
          ],
          "scattercarpet": [
           {
            "marker": {
             "colorbar": {
              "outlinewidth": 0,
              "ticks": ""
             }
            },
            "type": "scattercarpet"
           }
          ],
          "scattergeo": [
           {
            "marker": {
             "colorbar": {
              "outlinewidth": 0,
              "ticks": ""
             }
            },
            "type": "scattergeo"
           }
          ],
          "scattergl": [
           {
            "marker": {
             "line": {
              "color": "#283442"
             }
            },
            "type": "scattergl"
           }
          ],
          "scattermapbox": [
           {
            "marker": {
             "colorbar": {
              "outlinewidth": 0,
              "ticks": ""
             }
            },
            "type": "scattermapbox"
           }
          ],
          "scatterpolar": [
           {
            "marker": {
             "colorbar": {
              "outlinewidth": 0,
              "ticks": ""
             }
            },
            "type": "scatterpolar"
           }
          ],
          "scatterpolargl": [
           {
            "marker": {
             "colorbar": {
              "outlinewidth": 0,
              "ticks": ""
             }
            },
            "type": "scatterpolargl"
           }
          ],
          "scatterternary": [
           {
            "marker": {
             "colorbar": {
              "outlinewidth": 0,
              "ticks": ""
             }
            },
            "type": "scatterternary"
           }
          ],
          "surface": [
           {
            "colorbar": {
             "outlinewidth": 0,
             "ticks": ""
            },
            "colorscale": [
             [
              0,
              "#0d0887"
             ],
             [
              0.1111111111111111,
              "#46039f"
             ],
             [
              0.2222222222222222,
              "#7201a8"
             ],
             [
              0.3333333333333333,
              "#9c179e"
             ],
             [
              0.4444444444444444,
              "#bd3786"
             ],
             [
              0.5555555555555556,
              "#d8576b"
             ],
             [
              0.6666666666666666,
              "#ed7953"
             ],
             [
              0.7777777777777778,
              "#fb9f3a"
             ],
             [
              0.8888888888888888,
              "#fdca26"
             ],
             [
              1,
              "#f0f921"
             ]
            ],
            "type": "surface"
           }
          ],
          "table": [
           {
            "cells": {
             "fill": {
              "color": "#506784"
             },
             "line": {
              "color": "rgb(17,17,17)"
             }
            },
            "header": {
             "fill": {
              "color": "#2a3f5f"
             },
             "line": {
              "color": "rgb(17,17,17)"
             }
            },
            "type": "table"
           }
          ]
         },
         "layout": {
          "annotationdefaults": {
           "arrowcolor": "#f2f5fa",
           "arrowhead": 0,
           "arrowwidth": 1
          },
          "autotypenumbers": "strict",
          "coloraxis": {
           "colorbar": {
            "outlinewidth": 0,
            "ticks": ""
           }
          },
          "colorscale": {
           "diverging": [
            [
             0,
             "#8e0152"
            ],
            [
             0.1,
             "#c51b7d"
            ],
            [
             0.2,
             "#de77ae"
            ],
            [
             0.3,
             "#f1b6da"
            ],
            [
             0.4,
             "#fde0ef"
            ],
            [
             0.5,
             "#f7f7f7"
            ],
            [
             0.6,
             "#e6f5d0"
            ],
            [
             0.7,
             "#b8e186"
            ],
            [
             0.8,
             "#7fbc41"
            ],
            [
             0.9,
             "#4d9221"
            ],
            [
             1,
             "#276419"
            ]
           ],
           "sequential": [
            [
             0,
             "#0d0887"
            ],
            [
             0.1111111111111111,
             "#46039f"
            ],
            [
             0.2222222222222222,
             "#7201a8"
            ],
            [
             0.3333333333333333,
             "#9c179e"
            ],
            [
             0.4444444444444444,
             "#bd3786"
            ],
            [
             0.5555555555555556,
             "#d8576b"
            ],
            [
             0.6666666666666666,
             "#ed7953"
            ],
            [
             0.7777777777777778,
             "#fb9f3a"
            ],
            [
             0.8888888888888888,
             "#fdca26"
            ],
            [
             1,
             "#f0f921"
            ]
           ],
           "sequentialminus": [
            [
             0,
             "#0d0887"
            ],
            [
             0.1111111111111111,
             "#46039f"
            ],
            [
             0.2222222222222222,
             "#7201a8"
            ],
            [
             0.3333333333333333,
             "#9c179e"
            ],
            [
             0.4444444444444444,
             "#bd3786"
            ],
            [
             0.5555555555555556,
             "#d8576b"
            ],
            [
             0.6666666666666666,
             "#ed7953"
            ],
            [
             0.7777777777777778,
             "#fb9f3a"
            ],
            [
             0.8888888888888888,
             "#fdca26"
            ],
            [
             1,
             "#f0f921"
            ]
           ]
          },
          "colorway": [
           "#636efa",
           "#EF553B",
           "#00cc96",
           "#ab63fa",
           "#FFA15A",
           "#19d3f3",
           "#FF6692",
           "#B6E880",
           "#FF97FF",
           "#FECB52"
          ],
          "font": {
           "color": "#f2f5fa"
          },
          "geo": {
           "bgcolor": "rgb(17,17,17)",
           "lakecolor": "rgb(17,17,17)",
           "landcolor": "rgb(17,17,17)",
           "showlakes": true,
           "showland": true,
           "subunitcolor": "#506784"
          },
          "hoverlabel": {
           "align": "left"
          },
          "hovermode": "closest",
          "mapbox": {
           "style": "dark"
          },
          "paper_bgcolor": "rgb(17,17,17)",
          "plot_bgcolor": "rgb(17,17,17)",
          "polar": {
           "angularaxis": {
            "gridcolor": "#506784",
            "linecolor": "#506784",
            "ticks": ""
           },
           "bgcolor": "rgb(17,17,17)",
           "radialaxis": {
            "gridcolor": "#506784",
            "linecolor": "#506784",
            "ticks": ""
           }
          },
          "scene": {
           "xaxis": {
            "backgroundcolor": "rgb(17,17,17)",
            "gridcolor": "#506784",
            "gridwidth": 2,
            "linecolor": "#506784",
            "showbackground": true,
            "ticks": "",
            "zerolinecolor": "#C8D4E3"
           },
           "yaxis": {
            "backgroundcolor": "rgb(17,17,17)",
            "gridcolor": "#506784",
            "gridwidth": 2,
            "linecolor": "#506784",
            "showbackground": true,
            "ticks": "",
            "zerolinecolor": "#C8D4E3"
           },
           "zaxis": {
            "backgroundcolor": "rgb(17,17,17)",
            "gridcolor": "#506784",
            "gridwidth": 2,
            "linecolor": "#506784",
            "showbackground": true,
            "ticks": "",
            "zerolinecolor": "#C8D4E3"
           }
          },
          "shapedefaults": {
           "line": {
            "color": "#f2f5fa"
           }
          },
          "sliderdefaults": {
           "bgcolor": "#C8D4E3",
           "bordercolor": "rgb(17,17,17)",
           "borderwidth": 1,
           "tickwidth": 0
          },
          "ternary": {
           "aaxis": {
            "gridcolor": "#506784",
            "linecolor": "#506784",
            "ticks": ""
           },
           "baxis": {
            "gridcolor": "#506784",
            "linecolor": "#506784",
            "ticks": ""
           },
           "bgcolor": "rgb(17,17,17)",
           "caxis": {
            "gridcolor": "#506784",
            "linecolor": "#506784",
            "ticks": ""
           }
          },
          "title": {
           "x": 0.05
          },
          "updatemenudefaults": {
           "bgcolor": "#506784",
           "borderwidth": 0
          },
          "xaxis": {
           "automargin": true,
           "gridcolor": "#283442",
           "linecolor": "#506784",
           "ticks": "",
           "title": {
            "standoff": 15
           },
           "zerolinecolor": "#283442",
           "zerolinewidth": 2
          },
          "yaxis": {
           "automargin": true,
           "gridcolor": "#283442",
           "linecolor": "#506784",
           "ticks": "",
           "title": {
            "standoff": 15
           },
           "zerolinecolor": "#283442",
           "zerolinewidth": 2
          }
         }
        },
        "xaxis": {
         "anchor": "y",
         "domain": [
          0,
          0.45
         ]
        },
        "xaxis2": {
         "anchor": "y2",
         "domain": [
          0.55,
          1
         ]
        },
        "yaxis": {
         "anchor": "x",
         "domain": [
          0,
          1
         ]
        },
        "yaxis2": {
         "anchor": "x2",
         "domain": [
          0,
          1
         ]
        }
       }
      },
      "text/html": [
       "<div>                            <div id=\"815e55b0-a92e-4017-838c-8b08aa81e4a8\" class=\"plotly-graph-div\" style=\"height:525px; width:100%;\"></div>            <script type=\"text/javascript\">                require([\"plotly\"], function(Plotly) {                    window.PLOTLYENV=window.PLOTLYENV || {};                                    if (document.getElementById(\"815e55b0-a92e-4017-838c-8b08aa81e4a8\")) {                    Plotly.newPlot(                        \"815e55b0-a92e-4017-838c-8b08aa81e4a8\",                        [{\"marker\": {\"color\": \"rgba(50, 171, 96, 0.6)\", \"line\": {\"color\": \"rgba(50, 171, 96, 1.0)\", \"width\": 1}}, \"name\": \"Number of service requests per month\", \"orientation\": \"h\", \"type\": \"bar\", \"x\": [3088, 203, 1206, 231, 568, 489, 33, 72], \"xaxis\": \"x\", \"y\": [\"Bulky Items\", \"Electronic Waste\", \"Graffiti Removal\", \"Homeless Encampment\", \"Illegal Dumping Pickup\", \"Metal/Household Appliances\", \"Multiple Streetlight Issue\", \"Single Streetlight Issue\"], \"yaxis\": \"y\"}, {\"marker\": {\"color\": \"rgba(128, 0, 128, 0.6)\", \"line\": {\"color\": \"rgba(128, 0, 128, 1.0)\", \"width\": 1}}, \"name\": \"Average number of days to close request\", \"orientation\": \"h\", \"type\": \"bar\", \"x\": [4, 3, 4, 56, 11, 3, 40, 46], \"xaxis\": \"x2\", \"y\": [\"Bulky Items\", \"Electronic Waste\", \"Graffiti Removal\", \"Homeless Encampment\", \"Illegal Dumping Pickup\", \"Metal/Household Appliances\", \"Multiple Streetlight Issue\", \"Single Streetlight Issue\"], \"yaxis\": \"y2\"}],                        {\"annotations\": [{\"font\": {\"color\": \"rgb(150, 150, 150)\", \"family\": \"Arial\", \"size\": 10}, \"showarrow\": false, \"text\": \" WHEREVER WE GOT THIS DATASET FROM...\", \"x\": -0.2, \"xref\": \"paper\", \"y\": -0.109, \"yref\": \"paper\"}], \"template\": {\"data\": {\"bar\": [{\"error_x\": {\"color\": \"#f2f5fa\"}, \"error_y\": {\"color\": \"#f2f5fa\"}, \"marker\": {\"line\": {\"color\": \"rgb(17,17,17)\", \"width\": 0.5}}, \"type\": \"bar\"}], \"barpolar\": [{\"marker\": {\"line\": {\"color\": \"rgb(17,17,17)\", \"width\": 0.5}}, \"type\": \"barpolar\"}], \"carpet\": [{\"aaxis\": {\"endlinecolor\": \"#A2B1C6\", \"gridcolor\": \"#506784\", \"linecolor\": \"#506784\", \"minorgridcolor\": \"#506784\", \"startlinecolor\": \"#A2B1C6\"}, \"baxis\": {\"endlinecolor\": \"#A2B1C6\", \"gridcolor\": \"#506784\", \"linecolor\": \"#506784\", \"minorgridcolor\": \"#506784\", \"startlinecolor\": \"#A2B1C6\"}, \"type\": \"carpet\"}], \"choropleth\": [{\"colorbar\": {\"outlinewidth\": 0, \"ticks\": \"\"}, \"type\": \"choropleth\"}], \"contour\": [{\"colorbar\": {\"outlinewidth\": 0, \"ticks\": \"\"}, \"colorscale\": [[0.0, \"#0d0887\"], [0.1111111111111111, \"#46039f\"], [0.2222222222222222, \"#7201a8\"], [0.3333333333333333, \"#9c179e\"], [0.4444444444444444, \"#bd3786\"], [0.5555555555555556, \"#d8576b\"], [0.6666666666666666, \"#ed7953\"], [0.7777777777777778, \"#fb9f3a\"], [0.8888888888888888, \"#fdca26\"], [1.0, \"#f0f921\"]], \"type\": \"contour\"}], \"contourcarpet\": [{\"colorbar\": {\"outlinewidth\": 0, \"ticks\": \"\"}, \"type\": \"contourcarpet\"}], \"heatmap\": [{\"colorbar\": {\"outlinewidth\": 0, \"ticks\": \"\"}, \"colorscale\": [[0.0, \"#0d0887\"], [0.1111111111111111, \"#46039f\"], [0.2222222222222222, \"#7201a8\"], [0.3333333333333333, \"#9c179e\"], [0.4444444444444444, \"#bd3786\"], [0.5555555555555556, \"#d8576b\"], [0.6666666666666666, \"#ed7953\"], [0.7777777777777778, \"#fb9f3a\"], [0.8888888888888888, \"#fdca26\"], [1.0, \"#f0f921\"]], \"type\": \"heatmap\"}], \"heatmapgl\": [{\"colorbar\": {\"outlinewidth\": 0, \"ticks\": \"\"}, \"colorscale\": [[0.0, \"#0d0887\"], [0.1111111111111111, \"#46039f\"], [0.2222222222222222, \"#7201a8\"], [0.3333333333333333, \"#9c179e\"], [0.4444444444444444, \"#bd3786\"], [0.5555555555555556, \"#d8576b\"], [0.6666666666666666, \"#ed7953\"], [0.7777777777777778, \"#fb9f3a\"], [0.8888888888888888, \"#fdca26\"], [1.0, \"#f0f921\"]], \"type\": \"heatmapgl\"}], \"histogram\": [{\"marker\": {\"colorbar\": {\"outlinewidth\": 0, \"ticks\": \"\"}}, \"type\": \"histogram\"}], \"histogram2d\": [{\"colorbar\": {\"outlinewidth\": 0, \"ticks\": \"\"}, \"colorscale\": [[0.0, \"#0d0887\"], [0.1111111111111111, \"#46039f\"], [0.2222222222222222, \"#7201a8\"], [0.3333333333333333, \"#9c179e\"], [0.4444444444444444, \"#bd3786\"], [0.5555555555555556, \"#d8576b\"], [0.6666666666666666, \"#ed7953\"], [0.7777777777777778, \"#fb9f3a\"], [0.8888888888888888, \"#fdca26\"], [1.0, \"#f0f921\"]], \"type\": \"histogram2d\"}], \"histogram2dcontour\": [{\"colorbar\": {\"outlinewidth\": 0, \"ticks\": \"\"}, \"colorscale\": [[0.0, \"#0d0887\"], [0.1111111111111111, \"#46039f\"], [0.2222222222222222, \"#7201a8\"], [0.3333333333333333, \"#9c179e\"], [0.4444444444444444, \"#bd3786\"], [0.5555555555555556, \"#d8576b\"], [0.6666666666666666, \"#ed7953\"], [0.7777777777777778, \"#fb9f3a\"], [0.8888888888888888, \"#fdca26\"], [1.0, \"#f0f921\"]], \"type\": \"histogram2dcontour\"}], \"mesh3d\": [{\"colorbar\": {\"outlinewidth\": 0, \"ticks\": \"\"}, \"type\": \"mesh3d\"}], \"parcoords\": [{\"line\": {\"colorbar\": {\"outlinewidth\": 0, \"ticks\": \"\"}}, \"type\": \"parcoords\"}], \"pie\": [{\"automargin\": true, \"type\": \"pie\"}], \"scatter\": [{\"marker\": {\"line\": {\"color\": \"#283442\"}}, \"type\": \"scatter\"}], \"scatter3d\": [{\"line\": {\"colorbar\": {\"outlinewidth\": 0, \"ticks\": \"\"}}, \"marker\": {\"colorbar\": {\"outlinewidth\": 0, \"ticks\": \"\"}}, \"type\": \"scatter3d\"}], \"scattercarpet\": [{\"marker\": {\"colorbar\": {\"outlinewidth\": 0, \"ticks\": \"\"}}, \"type\": \"scattercarpet\"}], \"scattergeo\": [{\"marker\": {\"colorbar\": {\"outlinewidth\": 0, \"ticks\": \"\"}}, \"type\": \"scattergeo\"}], \"scattergl\": [{\"marker\": {\"line\": {\"color\": \"#283442\"}}, \"type\": \"scattergl\"}], \"scattermapbox\": [{\"marker\": {\"colorbar\": {\"outlinewidth\": 0, \"ticks\": \"\"}}, \"type\": \"scattermapbox\"}], \"scatterpolar\": [{\"marker\": {\"colorbar\": {\"outlinewidth\": 0, \"ticks\": \"\"}}, \"type\": \"scatterpolar\"}], \"scatterpolargl\": [{\"marker\": {\"colorbar\": {\"outlinewidth\": 0, \"ticks\": \"\"}}, \"type\": \"scatterpolargl\"}], \"scatterternary\": [{\"marker\": {\"colorbar\": {\"outlinewidth\": 0, \"ticks\": \"\"}}, \"type\": \"scatterternary\"}], \"surface\": [{\"colorbar\": {\"outlinewidth\": 0, \"ticks\": \"\"}, \"colorscale\": [[0.0, \"#0d0887\"], [0.1111111111111111, \"#46039f\"], [0.2222222222222222, \"#7201a8\"], [0.3333333333333333, \"#9c179e\"], [0.4444444444444444, \"#bd3786\"], [0.5555555555555556, \"#d8576b\"], [0.6666666666666666, \"#ed7953\"], [0.7777777777777778, \"#fb9f3a\"], [0.8888888888888888, \"#fdca26\"], [1.0, \"#f0f921\"]], \"type\": \"surface\"}], \"table\": [{\"cells\": {\"fill\": {\"color\": \"#506784\"}, \"line\": {\"color\": \"rgb(17,17,17)\"}}, \"header\": {\"fill\": {\"color\": \"#2a3f5f\"}, \"line\": {\"color\": \"rgb(17,17,17)\"}}, \"type\": \"table\"}]}, \"layout\": {\"annotationdefaults\": {\"arrowcolor\": \"#f2f5fa\", \"arrowhead\": 0, \"arrowwidth\": 1}, \"autotypenumbers\": \"strict\", \"coloraxis\": {\"colorbar\": {\"outlinewidth\": 0, \"ticks\": \"\"}}, \"colorscale\": {\"diverging\": [[0, \"#8e0152\"], [0.1, \"#c51b7d\"], [0.2, \"#de77ae\"], [0.3, \"#f1b6da\"], [0.4, \"#fde0ef\"], [0.5, \"#f7f7f7\"], [0.6, \"#e6f5d0\"], [0.7, \"#b8e186\"], [0.8, \"#7fbc41\"], [0.9, \"#4d9221\"], [1, \"#276419\"]], \"sequential\": [[0.0, \"#0d0887\"], [0.1111111111111111, \"#46039f\"], [0.2222222222222222, \"#7201a8\"], [0.3333333333333333, \"#9c179e\"], [0.4444444444444444, \"#bd3786\"], [0.5555555555555556, \"#d8576b\"], [0.6666666666666666, \"#ed7953\"], [0.7777777777777778, \"#fb9f3a\"], [0.8888888888888888, \"#fdca26\"], [1.0, \"#f0f921\"]], \"sequentialminus\": [[0.0, \"#0d0887\"], [0.1111111111111111, \"#46039f\"], [0.2222222222222222, \"#7201a8\"], [0.3333333333333333, \"#9c179e\"], [0.4444444444444444, \"#bd3786\"], [0.5555555555555556, \"#d8576b\"], [0.6666666666666666, \"#ed7953\"], [0.7777777777777778, \"#fb9f3a\"], [0.8888888888888888, \"#fdca26\"], [1.0, \"#f0f921\"]]}, \"colorway\": [\"#636efa\", \"#EF553B\", \"#00cc96\", \"#ab63fa\", \"#FFA15A\", \"#19d3f3\", \"#FF6692\", \"#B6E880\", \"#FF97FF\", \"#FECB52\"], \"font\": {\"color\": \"#f2f5fa\"}, \"geo\": {\"bgcolor\": \"rgb(17,17,17)\", \"lakecolor\": \"rgb(17,17,17)\", \"landcolor\": \"rgb(17,17,17)\", \"showlakes\": true, \"showland\": true, \"subunitcolor\": \"#506784\"}, \"hoverlabel\": {\"align\": \"left\"}, \"hovermode\": \"closest\", \"mapbox\": {\"style\": \"dark\"}, \"paper_bgcolor\": \"rgb(17,17,17)\", \"plot_bgcolor\": \"rgb(17,17,17)\", \"polar\": {\"angularaxis\": {\"gridcolor\": \"#506784\", \"linecolor\": \"#506784\", \"ticks\": \"\"}, \"bgcolor\": \"rgb(17,17,17)\", \"radialaxis\": {\"gridcolor\": \"#506784\", \"linecolor\": \"#506784\", \"ticks\": \"\"}}, \"scene\": {\"xaxis\": {\"backgroundcolor\": \"rgb(17,17,17)\", \"gridcolor\": \"#506784\", \"gridwidth\": 2, \"linecolor\": \"#506784\", \"showbackground\": true, \"ticks\": \"\", \"zerolinecolor\": \"#C8D4E3\"}, \"yaxis\": {\"backgroundcolor\": \"rgb(17,17,17)\", \"gridcolor\": \"#506784\", \"gridwidth\": 2, \"linecolor\": \"#506784\", \"showbackground\": true, \"ticks\": \"\", \"zerolinecolor\": \"#C8D4E3\"}, \"zaxis\": {\"backgroundcolor\": \"rgb(17,17,17)\", \"gridcolor\": \"#506784\", \"gridwidth\": 2, \"linecolor\": \"#506784\", \"showbackground\": true, \"ticks\": \"\", \"zerolinecolor\": \"#C8D4E3\"}}, \"shapedefaults\": {\"line\": {\"color\": \"#f2f5fa\"}}, \"sliderdefaults\": {\"bgcolor\": \"#C8D4E3\", \"bordercolor\": \"rgb(17,17,17)\", \"borderwidth\": 1, \"tickwidth\": 0}, \"ternary\": {\"aaxis\": {\"gridcolor\": \"#506784\", \"linecolor\": \"#506784\", \"ticks\": \"\"}, \"baxis\": {\"gridcolor\": \"#506784\", \"linecolor\": \"#506784\", \"ticks\": \"\"}, \"bgcolor\": \"rgb(17,17,17)\", \"caxis\": {\"gridcolor\": \"#506784\", \"linecolor\": \"#506784\", \"ticks\": \"\"}}, \"title\": {\"x\": 0.05}, \"updatemenudefaults\": {\"bgcolor\": \"#506784\", \"borderwidth\": 0}, \"xaxis\": {\"automargin\": true, \"gridcolor\": \"#283442\", \"linecolor\": \"#506784\", \"ticks\": \"\", \"title\": {\"standoff\": 15}, \"zerolinecolor\": \"#283442\", \"zerolinewidth\": 2}, \"yaxis\": {\"automargin\": true, \"gridcolor\": \"#283442\", \"linecolor\": \"#506784\", \"ticks\": \"\", \"title\": {\"standoff\": 15}, \"zerolinecolor\": \"#283442\", \"zerolinewidth\": 2}}}, \"xaxis\": {\"anchor\": \"y\", \"domain\": [0.0, 0.45]}, \"xaxis2\": {\"anchor\": \"y2\", \"domain\": [0.55, 1.0]}, \"yaxis\": {\"anchor\": \"x\", \"domain\": [0.0, 1.0]}, \"yaxis2\": {\"anchor\": \"x2\", \"domain\": [0.0, 1.0]}},                        {\"responsive\": true}                    ).then(function(){\n",
       "                            \n",
       "var gd = document.getElementById('815e55b0-a92e-4017-838c-8b08aa81e4a8');\n",
       "var x = new MutationObserver(function (mutations, observer) {{\n",
       "        var display = window.getComputedStyle(gd).display;\n",
       "        if (!display || display === 'none') {{\n",
       "            console.log([gd, 'removed!']);\n",
       "            Plotly.purge(gd);\n",
       "            observer.disconnect();\n",
       "        }}\n",
       "}});\n",
       "\n",
       "// Listen for the removal of the full notebook cells\n",
       "var notebookContainer = gd.closest('#notebook-container');\n",
       "if (notebookContainer) {{\n",
       "    x.observe(notebookContainer, {childList: true});\n",
       "}}\n",
       "\n",
       "// Listen for the clearing of the current output cell\n",
       "var outputEl = gd.closest('.output');\n",
       "if (outputEl) {{\n",
       "    x.observe(outputEl, {childList: true});\n",
       "}}\n",
       "\n",
       "                        })                };                });            </script>        </div>"
      ]
     },
     "metadata": {},
     "output_type": "display_data"
    }
   ],
   "source": [
    "import plotly.graph_objects as go\n",
    "from plotly.subplots import make_subplots\n",
    "\n",
    "import numpy as np\n",
    "\n",
    "os.chdir(BASE_DIR + 'scripts/interactive/')\n",
    "final_df.to_csv('distribution_requests_by_date_cd.csv', index = False)\n",
    "\n",
    "\n",
    "# Creating two subplots\n",
    "fig = make_subplots(rows = 1, cols = 2, specs = [[{}, {}]], shared_xaxes = True,\n",
    "                    shared_yaxes = False, vertical_spacing = 0.001)\n",
    "\n",
    "# create first barplot\n",
    "fig.append_trace(go.Bar(\n",
    "    x = temp['count_service'],\n",
    "    y = temp['requesttype'],\n",
    "    marker = dict(\n",
    "        color = 'rgba(50, 171, 96, 0.6)',\n",
    "        line = dict(\n",
    "            color = 'rgba(50, 171, 96, 1.0)',\n",
    "            width = 1),\n",
    "    ),\n",
    "    \n",
    "    name = 'Number of service requests per month',\n",
    "    orientation = 'h',\n",
    "), 1, 1)\n",
    "\n",
    "# create second barplot\n",
    "fig.append_trace(go.Bar(\n",
    "   \n",
    "    x = temp['avg_request_closed'], \n",
    "    y = temp['requesttype'],\n",
    "    marker = dict(\n",
    "        color = 'rgba(128, 0, 128, 0.6)',\n",
    "        line = dict(\n",
    "            color = 'rgba(128, 0, 128, 1.0)',\n",
    "            width = 1),\n",
    "    ),\n",
    "    \n",
    "    name = 'Average number of days to close request',\n",
    "    orientation = 'h',\n",
    "), 1, 2)\n",
    "\n",
    "\n",
    "\n",
    "# update extra text\n",
    "annotations = []\n",
    "\n",
    "\n",
    "# Source\n",
    "annotations.append(dict(xref = 'paper', yref = 'paper',\n",
    "                        x = -0.2, y = -0.109,\n",
    "                        text = ' WHEREVER WE GOT THIS DATASET FROM...',\n",
    "                        font = dict(family = 'Arial', size = 10, color = 'rgb(150, 150, 150)'),\n",
    "                        showarrow = False))\n",
    "\n",
    "fig.update_layout(annotations = annotations)\n",
    "\n",
    "fig.show()\n",
    "\n",
    "#neighborhood council, are they failing to take care of my problems over another \n",
    "# what are the problems in my neighborhood council?\n",
    "\n",
    "# e.g., cases of graffiti that. are not getting fixed in over a year\n",
    "\n",
    "\n"
   ]
  },
  {
   "cell_type": "code",
   "execution_count": 144,
   "metadata": {},
   "outputs": [
    {
     "data": {
      "application/vnd.plotly.v1+json": {
       "config": {
        "plotlyServerURL": "https://plot.ly"
       },
       "data": [
        {
         "alignmentgroup": "True",
         "hovertemplate": "color=Bulky Items<br>x=%{x}<br>y=%{y}<extra></extra>",
         "legendgroup": "Bulky Items",
         "marker": {
          "color": "#636efa"
         },
         "name": "Bulky Items",
         "offsetgroup": "Bulky Items",
         "orientation": "h",
         "showlegend": true,
         "textposition": "auto",
         "type": "bar",
         "x": [
          3088
         ],
         "xaxis": "x",
         "y": [
          "Council District 1"
         ],
         "yaxis": "y"
        },
        {
         "alignmentgroup": "True",
         "hovertemplate": "color=Electronic Waste<br>x=%{x}<br>y=%{y}<extra></extra>",
         "legendgroup": "Electronic Waste",
         "marker": {
          "color": "#EF553B"
         },
         "name": "Electronic Waste",
         "offsetgroup": "Electronic Waste",
         "orientation": "h",
         "showlegend": true,
         "textposition": "auto",
         "type": "bar",
         "x": [
          203
         ],
         "xaxis": "x",
         "y": [
          "Council District 1"
         ],
         "yaxis": "y"
        },
        {
         "alignmentgroup": "True",
         "hovertemplate": "color=Graffiti Removal<br>x=%{x}<br>y=%{y}<extra></extra>",
         "legendgroup": "Graffiti Removal",
         "marker": {
          "color": "#00cc96"
         },
         "name": "Graffiti Removal",
         "offsetgroup": "Graffiti Removal",
         "orientation": "h",
         "showlegend": true,
         "textposition": "auto",
         "type": "bar",
         "x": [
          1206
         ],
         "xaxis": "x",
         "y": [
          "Council District 1"
         ],
         "yaxis": "y"
        },
        {
         "alignmentgroup": "True",
         "hovertemplate": "color=Homeless Encampment<br>x=%{x}<br>y=%{y}<extra></extra>",
         "legendgroup": "Homeless Encampment",
         "marker": {
          "color": "#ab63fa"
         },
         "name": "Homeless Encampment",
         "offsetgroup": "Homeless Encampment",
         "orientation": "h",
         "showlegend": true,
         "textposition": "auto",
         "type": "bar",
         "x": [
          231
         ],
         "xaxis": "x",
         "y": [
          "Council District 1"
         ],
         "yaxis": "y"
        },
        {
         "alignmentgroup": "True",
         "hovertemplate": "color=Illegal Dumping Pickup<br>x=%{x}<br>y=%{y}<extra></extra>",
         "legendgroup": "Illegal Dumping Pickup",
         "marker": {
          "color": "#FFA15A"
         },
         "name": "Illegal Dumping Pickup",
         "offsetgroup": "Illegal Dumping Pickup",
         "orientation": "h",
         "showlegend": true,
         "textposition": "auto",
         "type": "bar",
         "x": [
          568
         ],
         "xaxis": "x",
         "y": [
          "Council District 1"
         ],
         "yaxis": "y"
        },
        {
         "alignmentgroup": "True",
         "hovertemplate": "color=Metal/Household Appliances<br>x=%{x}<br>y=%{y}<extra></extra>",
         "legendgroup": "Metal/Household Appliances",
         "marker": {
          "color": "#19d3f3"
         },
         "name": "Metal/Household Appliances",
         "offsetgroup": "Metal/Household Appliances",
         "orientation": "h",
         "showlegend": true,
         "textposition": "auto",
         "type": "bar",
         "x": [
          489
         ],
         "xaxis": "x",
         "y": [
          "Council District 1"
         ],
         "yaxis": "y"
        },
        {
         "alignmentgroup": "True",
         "hovertemplate": "color=Multiple Streetlight Issue<br>x=%{x}<br>y=%{y}<extra></extra>",
         "legendgroup": "Multiple Streetlight Issue",
         "marker": {
          "color": "#FF6692"
         },
         "name": "Multiple Streetlight Issue",
         "offsetgroup": "Multiple Streetlight Issue",
         "orientation": "h",
         "showlegend": true,
         "textposition": "auto",
         "type": "bar",
         "x": [
          33
         ],
         "xaxis": "x",
         "y": [
          "Council District 1"
         ],
         "yaxis": "y"
        },
        {
         "alignmentgroup": "True",
         "hovertemplate": "color=Single Streetlight Issue<br>x=%{x}<br>y=%{y}<extra></extra>",
         "legendgroup": "Single Streetlight Issue",
         "marker": {
          "color": "#B6E880"
         },
         "name": "Single Streetlight Issue",
         "offsetgroup": "Single Streetlight Issue",
         "orientation": "h",
         "showlegend": true,
         "textposition": "auto",
         "type": "bar",
         "x": [
          72
         ],
         "xaxis": "x",
         "y": [
          "Council District 1"
         ],
         "yaxis": "y"
        }
       ],
       "layout": {
        "barmode": "stack",
        "legend": {
         "title": {
          "text": "color"
         },
         "tracegroupgap": 0
        },
        "margin": {
         "t": 60
        },
        "template": {
         "data": {
          "bar": [
           {
            "error_x": {
             "color": "#f2f5fa"
            },
            "error_y": {
             "color": "#f2f5fa"
            },
            "marker": {
             "line": {
              "color": "rgb(17,17,17)",
              "width": 0.5
             }
            },
            "type": "bar"
           }
          ],
          "barpolar": [
           {
            "marker": {
             "line": {
              "color": "rgb(17,17,17)",
              "width": 0.5
             }
            },
            "type": "barpolar"
           }
          ],
          "carpet": [
           {
            "aaxis": {
             "endlinecolor": "#A2B1C6",
             "gridcolor": "#506784",
             "linecolor": "#506784",
             "minorgridcolor": "#506784",
             "startlinecolor": "#A2B1C6"
            },
            "baxis": {
             "endlinecolor": "#A2B1C6",
             "gridcolor": "#506784",
             "linecolor": "#506784",
             "minorgridcolor": "#506784",
             "startlinecolor": "#A2B1C6"
            },
            "type": "carpet"
           }
          ],
          "choropleth": [
           {
            "colorbar": {
             "outlinewidth": 0,
             "ticks": ""
            },
            "type": "choropleth"
           }
          ],
          "contour": [
           {
            "colorbar": {
             "outlinewidth": 0,
             "ticks": ""
            },
            "colorscale": [
             [
              0,
              "#0d0887"
             ],
             [
              0.1111111111111111,
              "#46039f"
             ],
             [
              0.2222222222222222,
              "#7201a8"
             ],
             [
              0.3333333333333333,
              "#9c179e"
             ],
             [
              0.4444444444444444,
              "#bd3786"
             ],
             [
              0.5555555555555556,
              "#d8576b"
             ],
             [
              0.6666666666666666,
              "#ed7953"
             ],
             [
              0.7777777777777778,
              "#fb9f3a"
             ],
             [
              0.8888888888888888,
              "#fdca26"
             ],
             [
              1,
              "#f0f921"
             ]
            ],
            "type": "contour"
           }
          ],
          "contourcarpet": [
           {
            "colorbar": {
             "outlinewidth": 0,
             "ticks": ""
            },
            "type": "contourcarpet"
           }
          ],
          "heatmap": [
           {
            "colorbar": {
             "outlinewidth": 0,
             "ticks": ""
            },
            "colorscale": [
             [
              0,
              "#0d0887"
             ],
             [
              0.1111111111111111,
              "#46039f"
             ],
             [
              0.2222222222222222,
              "#7201a8"
             ],
             [
              0.3333333333333333,
              "#9c179e"
             ],
             [
              0.4444444444444444,
              "#bd3786"
             ],
             [
              0.5555555555555556,
              "#d8576b"
             ],
             [
              0.6666666666666666,
              "#ed7953"
             ],
             [
              0.7777777777777778,
              "#fb9f3a"
             ],
             [
              0.8888888888888888,
              "#fdca26"
             ],
             [
              1,
              "#f0f921"
             ]
            ],
            "type": "heatmap"
           }
          ],
          "heatmapgl": [
           {
            "colorbar": {
             "outlinewidth": 0,
             "ticks": ""
            },
            "colorscale": [
             [
              0,
              "#0d0887"
             ],
             [
              0.1111111111111111,
              "#46039f"
             ],
             [
              0.2222222222222222,
              "#7201a8"
             ],
             [
              0.3333333333333333,
              "#9c179e"
             ],
             [
              0.4444444444444444,
              "#bd3786"
             ],
             [
              0.5555555555555556,
              "#d8576b"
             ],
             [
              0.6666666666666666,
              "#ed7953"
             ],
             [
              0.7777777777777778,
              "#fb9f3a"
             ],
             [
              0.8888888888888888,
              "#fdca26"
             ],
             [
              1,
              "#f0f921"
             ]
            ],
            "type": "heatmapgl"
           }
          ],
          "histogram": [
           {
            "marker": {
             "colorbar": {
              "outlinewidth": 0,
              "ticks": ""
             }
            },
            "type": "histogram"
           }
          ],
          "histogram2d": [
           {
            "colorbar": {
             "outlinewidth": 0,
             "ticks": ""
            },
            "colorscale": [
             [
              0,
              "#0d0887"
             ],
             [
              0.1111111111111111,
              "#46039f"
             ],
             [
              0.2222222222222222,
              "#7201a8"
             ],
             [
              0.3333333333333333,
              "#9c179e"
             ],
             [
              0.4444444444444444,
              "#bd3786"
             ],
             [
              0.5555555555555556,
              "#d8576b"
             ],
             [
              0.6666666666666666,
              "#ed7953"
             ],
             [
              0.7777777777777778,
              "#fb9f3a"
             ],
             [
              0.8888888888888888,
              "#fdca26"
             ],
             [
              1,
              "#f0f921"
             ]
            ],
            "type": "histogram2d"
           }
          ],
          "histogram2dcontour": [
           {
            "colorbar": {
             "outlinewidth": 0,
             "ticks": ""
            },
            "colorscale": [
             [
              0,
              "#0d0887"
             ],
             [
              0.1111111111111111,
              "#46039f"
             ],
             [
              0.2222222222222222,
              "#7201a8"
             ],
             [
              0.3333333333333333,
              "#9c179e"
             ],
             [
              0.4444444444444444,
              "#bd3786"
             ],
             [
              0.5555555555555556,
              "#d8576b"
             ],
             [
              0.6666666666666666,
              "#ed7953"
             ],
             [
              0.7777777777777778,
              "#fb9f3a"
             ],
             [
              0.8888888888888888,
              "#fdca26"
             ],
             [
              1,
              "#f0f921"
             ]
            ],
            "type": "histogram2dcontour"
           }
          ],
          "mesh3d": [
           {
            "colorbar": {
             "outlinewidth": 0,
             "ticks": ""
            },
            "type": "mesh3d"
           }
          ],
          "parcoords": [
           {
            "line": {
             "colorbar": {
              "outlinewidth": 0,
              "ticks": ""
             }
            },
            "type": "parcoords"
           }
          ],
          "pie": [
           {
            "automargin": true,
            "type": "pie"
           }
          ],
          "scatter": [
           {
            "marker": {
             "line": {
              "color": "#283442"
             }
            },
            "type": "scatter"
           }
          ],
          "scatter3d": [
           {
            "line": {
             "colorbar": {
              "outlinewidth": 0,
              "ticks": ""
             }
            },
            "marker": {
             "colorbar": {
              "outlinewidth": 0,
              "ticks": ""
             }
            },
            "type": "scatter3d"
           }
          ],
          "scattercarpet": [
           {
            "marker": {
             "colorbar": {
              "outlinewidth": 0,
              "ticks": ""
             }
            },
            "type": "scattercarpet"
           }
          ],
          "scattergeo": [
           {
            "marker": {
             "colorbar": {
              "outlinewidth": 0,
              "ticks": ""
             }
            },
            "type": "scattergeo"
           }
          ],
          "scattergl": [
           {
            "marker": {
             "line": {
              "color": "#283442"
             }
            },
            "type": "scattergl"
           }
          ],
          "scattermapbox": [
           {
            "marker": {
             "colorbar": {
              "outlinewidth": 0,
              "ticks": ""
             }
            },
            "type": "scattermapbox"
           }
          ],
          "scatterpolar": [
           {
            "marker": {
             "colorbar": {
              "outlinewidth": 0,
              "ticks": ""
             }
            },
            "type": "scatterpolar"
           }
          ],
          "scatterpolargl": [
           {
            "marker": {
             "colorbar": {
              "outlinewidth": 0,
              "ticks": ""
             }
            },
            "type": "scatterpolargl"
           }
          ],
          "scatterternary": [
           {
            "marker": {
             "colorbar": {
              "outlinewidth": 0,
              "ticks": ""
             }
            },
            "type": "scatterternary"
           }
          ],
          "surface": [
           {
            "colorbar": {
             "outlinewidth": 0,
             "ticks": ""
            },
            "colorscale": [
             [
              0,
              "#0d0887"
             ],
             [
              0.1111111111111111,
              "#46039f"
             ],
             [
              0.2222222222222222,
              "#7201a8"
             ],
             [
              0.3333333333333333,
              "#9c179e"
             ],
             [
              0.4444444444444444,
              "#bd3786"
             ],
             [
              0.5555555555555556,
              "#d8576b"
             ],
             [
              0.6666666666666666,
              "#ed7953"
             ],
             [
              0.7777777777777778,
              "#fb9f3a"
             ],
             [
              0.8888888888888888,
              "#fdca26"
             ],
             [
              1,
              "#f0f921"
             ]
            ],
            "type": "surface"
           }
          ],
          "table": [
           {
            "cells": {
             "fill": {
              "color": "#506784"
             },
             "line": {
              "color": "rgb(17,17,17)"
             }
            },
            "header": {
             "fill": {
              "color": "#2a3f5f"
             },
             "line": {
              "color": "rgb(17,17,17)"
             }
            },
            "type": "table"
           }
          ]
         },
         "layout": {
          "annotationdefaults": {
           "arrowcolor": "#f2f5fa",
           "arrowhead": 0,
           "arrowwidth": 1
          },
          "autotypenumbers": "strict",
          "coloraxis": {
           "colorbar": {
            "outlinewidth": 0,
            "ticks": ""
           }
          },
          "colorscale": {
           "diverging": [
            [
             0,
             "#8e0152"
            ],
            [
             0.1,
             "#c51b7d"
            ],
            [
             0.2,
             "#de77ae"
            ],
            [
             0.3,
             "#f1b6da"
            ],
            [
             0.4,
             "#fde0ef"
            ],
            [
             0.5,
             "#f7f7f7"
            ],
            [
             0.6,
             "#e6f5d0"
            ],
            [
             0.7,
             "#b8e186"
            ],
            [
             0.8,
             "#7fbc41"
            ],
            [
             0.9,
             "#4d9221"
            ],
            [
             1,
             "#276419"
            ]
           ],
           "sequential": [
            [
             0,
             "#0d0887"
            ],
            [
             0.1111111111111111,
             "#46039f"
            ],
            [
             0.2222222222222222,
             "#7201a8"
            ],
            [
             0.3333333333333333,
             "#9c179e"
            ],
            [
             0.4444444444444444,
             "#bd3786"
            ],
            [
             0.5555555555555556,
             "#d8576b"
            ],
            [
             0.6666666666666666,
             "#ed7953"
            ],
            [
             0.7777777777777778,
             "#fb9f3a"
            ],
            [
             0.8888888888888888,
             "#fdca26"
            ],
            [
             1,
             "#f0f921"
            ]
           ],
           "sequentialminus": [
            [
             0,
             "#0d0887"
            ],
            [
             0.1111111111111111,
             "#46039f"
            ],
            [
             0.2222222222222222,
             "#7201a8"
            ],
            [
             0.3333333333333333,
             "#9c179e"
            ],
            [
             0.4444444444444444,
             "#bd3786"
            ],
            [
             0.5555555555555556,
             "#d8576b"
            ],
            [
             0.6666666666666666,
             "#ed7953"
            ],
            [
             0.7777777777777778,
             "#fb9f3a"
            ],
            [
             0.8888888888888888,
             "#fdca26"
            ],
            [
             1,
             "#f0f921"
            ]
           ]
          },
          "colorway": [
           "#636efa",
           "#EF553B",
           "#00cc96",
           "#ab63fa",
           "#FFA15A",
           "#19d3f3",
           "#FF6692",
           "#B6E880",
           "#FF97FF",
           "#FECB52"
          ],
          "font": {
           "color": "#f2f5fa"
          },
          "geo": {
           "bgcolor": "rgb(17,17,17)",
           "lakecolor": "rgb(17,17,17)",
           "landcolor": "rgb(17,17,17)",
           "showlakes": true,
           "showland": true,
           "subunitcolor": "#506784"
          },
          "hoverlabel": {
           "align": "left"
          },
          "hovermode": "closest",
          "mapbox": {
           "style": "dark"
          },
          "paper_bgcolor": "rgb(17,17,17)",
          "plot_bgcolor": "rgb(17,17,17)",
          "polar": {
           "angularaxis": {
            "gridcolor": "#506784",
            "linecolor": "#506784",
            "ticks": ""
           },
           "bgcolor": "rgb(17,17,17)",
           "radialaxis": {
            "gridcolor": "#506784",
            "linecolor": "#506784",
            "ticks": ""
           }
          },
          "scene": {
           "xaxis": {
            "backgroundcolor": "rgb(17,17,17)",
            "gridcolor": "#506784",
            "gridwidth": 2,
            "linecolor": "#506784",
            "showbackground": true,
            "ticks": "",
            "zerolinecolor": "#C8D4E3"
           },
           "yaxis": {
            "backgroundcolor": "rgb(17,17,17)",
            "gridcolor": "#506784",
            "gridwidth": 2,
            "linecolor": "#506784",
            "showbackground": true,
            "ticks": "",
            "zerolinecolor": "#C8D4E3"
           },
           "zaxis": {
            "backgroundcolor": "rgb(17,17,17)",
            "gridcolor": "#506784",
            "gridwidth": 2,
            "linecolor": "#506784",
            "showbackground": true,
            "ticks": "",
            "zerolinecolor": "#C8D4E3"
           }
          },
          "shapedefaults": {
           "line": {
            "color": "#f2f5fa"
           }
          },
          "sliderdefaults": {
           "bgcolor": "#C8D4E3",
           "bordercolor": "rgb(17,17,17)",
           "borderwidth": 1,
           "tickwidth": 0
          },
          "ternary": {
           "aaxis": {
            "gridcolor": "#506784",
            "linecolor": "#506784",
            "ticks": ""
           },
           "baxis": {
            "gridcolor": "#506784",
            "linecolor": "#506784",
            "ticks": ""
           },
           "bgcolor": "rgb(17,17,17)",
           "caxis": {
            "gridcolor": "#506784",
            "linecolor": "#506784",
            "ticks": ""
           }
          },
          "title": {
           "x": 0.05
          },
          "updatemenudefaults": {
           "bgcolor": "#506784",
           "borderwidth": 0
          },
          "xaxis": {
           "automargin": true,
           "gridcolor": "#283442",
           "linecolor": "#506784",
           "ticks": "",
           "title": {
            "standoff": 15
           },
           "zerolinecolor": "#283442",
           "zerolinewidth": 2
          },
          "yaxis": {
           "automargin": true,
           "gridcolor": "#283442",
           "linecolor": "#506784",
           "ticks": "",
           "title": {
            "standoff": 15
           },
           "zerolinecolor": "#283442",
           "zerolinewidth": 2
          }
         }
        },
        "xaxis": {
         "anchor": "y",
         "domain": [
          0,
          1
         ],
         "title": {
          "text": "x"
         }
        },
        "yaxis": {
         "anchor": "x",
         "domain": [
          0,
          1
         ],
         "title": {
          "text": "y"
         }
        }
       }
      },
      "text/html": [
       "<div>                            <div id=\"f7ecbcec-b550-40ea-bf5f-7eff9cf3f5d0\" class=\"plotly-graph-div\" style=\"height:525px; width:100%;\"></div>            <script type=\"text/javascript\">                require([\"plotly\"], function(Plotly) {                    window.PLOTLYENV=window.PLOTLYENV || {};                                    if (document.getElementById(\"f7ecbcec-b550-40ea-bf5f-7eff9cf3f5d0\")) {                    Plotly.newPlot(                        \"f7ecbcec-b550-40ea-bf5f-7eff9cf3f5d0\",                        [{\"alignmentgroup\": \"True\", \"hovertemplate\": \"color=Bulky Items<br>x=%{x}<br>y=%{y}<extra></extra>\", \"legendgroup\": \"Bulky Items\", \"marker\": {\"color\": \"#636efa\"}, \"name\": \"Bulky Items\", \"offsetgroup\": \"Bulky Items\", \"orientation\": \"h\", \"showlegend\": true, \"textposition\": \"auto\", \"type\": \"bar\", \"x\": [3088], \"xaxis\": \"x\", \"y\": [\"Council District 1\"], \"yaxis\": \"y\"}, {\"alignmentgroup\": \"True\", \"hovertemplate\": \"color=Electronic Waste<br>x=%{x}<br>y=%{y}<extra></extra>\", \"legendgroup\": \"Electronic Waste\", \"marker\": {\"color\": \"#EF553B\"}, \"name\": \"Electronic Waste\", \"offsetgroup\": \"Electronic Waste\", \"orientation\": \"h\", \"showlegend\": true, \"textposition\": \"auto\", \"type\": \"bar\", \"x\": [203], \"xaxis\": \"x\", \"y\": [\"Council District 1\"], \"yaxis\": \"y\"}, {\"alignmentgroup\": \"True\", \"hovertemplate\": \"color=Graffiti Removal<br>x=%{x}<br>y=%{y}<extra></extra>\", \"legendgroup\": \"Graffiti Removal\", \"marker\": {\"color\": \"#00cc96\"}, \"name\": \"Graffiti Removal\", \"offsetgroup\": \"Graffiti Removal\", \"orientation\": \"h\", \"showlegend\": true, \"textposition\": \"auto\", \"type\": \"bar\", \"x\": [1206], \"xaxis\": \"x\", \"y\": [\"Council District 1\"], \"yaxis\": \"y\"}, {\"alignmentgroup\": \"True\", \"hovertemplate\": \"color=Homeless Encampment<br>x=%{x}<br>y=%{y}<extra></extra>\", \"legendgroup\": \"Homeless Encampment\", \"marker\": {\"color\": \"#ab63fa\"}, \"name\": \"Homeless Encampment\", \"offsetgroup\": \"Homeless Encampment\", \"orientation\": \"h\", \"showlegend\": true, \"textposition\": \"auto\", \"type\": \"bar\", \"x\": [231], \"xaxis\": \"x\", \"y\": [\"Council District 1\"], \"yaxis\": \"y\"}, {\"alignmentgroup\": \"True\", \"hovertemplate\": \"color=Illegal Dumping Pickup<br>x=%{x}<br>y=%{y}<extra></extra>\", \"legendgroup\": \"Illegal Dumping Pickup\", \"marker\": {\"color\": \"#FFA15A\"}, \"name\": \"Illegal Dumping Pickup\", \"offsetgroup\": \"Illegal Dumping Pickup\", \"orientation\": \"h\", \"showlegend\": true, \"textposition\": \"auto\", \"type\": \"bar\", \"x\": [568], \"xaxis\": \"x\", \"y\": [\"Council District 1\"], \"yaxis\": \"y\"}, {\"alignmentgroup\": \"True\", \"hovertemplate\": \"color=Metal/Household Appliances<br>x=%{x}<br>y=%{y}<extra></extra>\", \"legendgroup\": \"Metal/Household Appliances\", \"marker\": {\"color\": \"#19d3f3\"}, \"name\": \"Metal/Household Appliances\", \"offsetgroup\": \"Metal/Household Appliances\", \"orientation\": \"h\", \"showlegend\": true, \"textposition\": \"auto\", \"type\": \"bar\", \"x\": [489], \"xaxis\": \"x\", \"y\": [\"Council District 1\"], \"yaxis\": \"y\"}, {\"alignmentgroup\": \"True\", \"hovertemplate\": \"color=Multiple Streetlight Issue<br>x=%{x}<br>y=%{y}<extra></extra>\", \"legendgroup\": \"Multiple Streetlight Issue\", \"marker\": {\"color\": \"#FF6692\"}, \"name\": \"Multiple Streetlight Issue\", \"offsetgroup\": \"Multiple Streetlight Issue\", \"orientation\": \"h\", \"showlegend\": true, \"textposition\": \"auto\", \"type\": \"bar\", \"x\": [33], \"xaxis\": \"x\", \"y\": [\"Council District 1\"], \"yaxis\": \"y\"}, {\"alignmentgroup\": \"True\", \"hovertemplate\": \"color=Single Streetlight Issue<br>x=%{x}<br>y=%{y}<extra></extra>\", \"legendgroup\": \"Single Streetlight Issue\", \"marker\": {\"color\": \"#B6E880\"}, \"name\": \"Single Streetlight Issue\", \"offsetgroup\": \"Single Streetlight Issue\", \"orientation\": \"h\", \"showlegend\": true, \"textposition\": \"auto\", \"type\": \"bar\", \"x\": [72], \"xaxis\": \"x\", \"y\": [\"Council District 1\"], \"yaxis\": \"y\"}],                        {\"barmode\": \"stack\", \"legend\": {\"title\": {\"text\": \"color\"}, \"tracegroupgap\": 0}, \"margin\": {\"t\": 60}, \"template\": {\"data\": {\"bar\": [{\"error_x\": {\"color\": \"#f2f5fa\"}, \"error_y\": {\"color\": \"#f2f5fa\"}, \"marker\": {\"line\": {\"color\": \"rgb(17,17,17)\", \"width\": 0.5}}, \"type\": \"bar\"}], \"barpolar\": [{\"marker\": {\"line\": {\"color\": \"rgb(17,17,17)\", \"width\": 0.5}}, \"type\": \"barpolar\"}], \"carpet\": [{\"aaxis\": {\"endlinecolor\": \"#A2B1C6\", \"gridcolor\": \"#506784\", \"linecolor\": \"#506784\", \"minorgridcolor\": \"#506784\", \"startlinecolor\": \"#A2B1C6\"}, \"baxis\": {\"endlinecolor\": \"#A2B1C6\", \"gridcolor\": \"#506784\", \"linecolor\": \"#506784\", \"minorgridcolor\": \"#506784\", \"startlinecolor\": \"#A2B1C6\"}, \"type\": \"carpet\"}], \"choropleth\": [{\"colorbar\": {\"outlinewidth\": 0, \"ticks\": \"\"}, \"type\": \"choropleth\"}], \"contour\": [{\"colorbar\": {\"outlinewidth\": 0, \"ticks\": \"\"}, \"colorscale\": [[0.0, \"#0d0887\"], [0.1111111111111111, \"#46039f\"], [0.2222222222222222, \"#7201a8\"], [0.3333333333333333, \"#9c179e\"], [0.4444444444444444, \"#bd3786\"], [0.5555555555555556, \"#d8576b\"], [0.6666666666666666, \"#ed7953\"], [0.7777777777777778, \"#fb9f3a\"], [0.8888888888888888, \"#fdca26\"], [1.0, \"#f0f921\"]], \"type\": \"contour\"}], \"contourcarpet\": [{\"colorbar\": {\"outlinewidth\": 0, \"ticks\": \"\"}, \"type\": \"contourcarpet\"}], \"heatmap\": [{\"colorbar\": {\"outlinewidth\": 0, \"ticks\": \"\"}, \"colorscale\": [[0.0, \"#0d0887\"], [0.1111111111111111, \"#46039f\"], [0.2222222222222222, \"#7201a8\"], [0.3333333333333333, \"#9c179e\"], [0.4444444444444444, \"#bd3786\"], [0.5555555555555556, \"#d8576b\"], [0.6666666666666666, \"#ed7953\"], [0.7777777777777778, \"#fb9f3a\"], [0.8888888888888888, \"#fdca26\"], [1.0, \"#f0f921\"]], \"type\": \"heatmap\"}], \"heatmapgl\": [{\"colorbar\": {\"outlinewidth\": 0, \"ticks\": \"\"}, \"colorscale\": [[0.0, \"#0d0887\"], [0.1111111111111111, \"#46039f\"], [0.2222222222222222, \"#7201a8\"], [0.3333333333333333, \"#9c179e\"], [0.4444444444444444, \"#bd3786\"], [0.5555555555555556, \"#d8576b\"], [0.6666666666666666, \"#ed7953\"], [0.7777777777777778, \"#fb9f3a\"], [0.8888888888888888, \"#fdca26\"], [1.0, \"#f0f921\"]], \"type\": \"heatmapgl\"}], \"histogram\": [{\"marker\": {\"colorbar\": {\"outlinewidth\": 0, \"ticks\": \"\"}}, \"type\": \"histogram\"}], \"histogram2d\": [{\"colorbar\": {\"outlinewidth\": 0, \"ticks\": \"\"}, \"colorscale\": [[0.0, \"#0d0887\"], [0.1111111111111111, \"#46039f\"], [0.2222222222222222, \"#7201a8\"], [0.3333333333333333, \"#9c179e\"], [0.4444444444444444, \"#bd3786\"], [0.5555555555555556, \"#d8576b\"], [0.6666666666666666, \"#ed7953\"], [0.7777777777777778, \"#fb9f3a\"], [0.8888888888888888, \"#fdca26\"], [1.0, \"#f0f921\"]], \"type\": \"histogram2d\"}], \"histogram2dcontour\": [{\"colorbar\": {\"outlinewidth\": 0, \"ticks\": \"\"}, \"colorscale\": [[0.0, \"#0d0887\"], [0.1111111111111111, \"#46039f\"], [0.2222222222222222, \"#7201a8\"], [0.3333333333333333, \"#9c179e\"], [0.4444444444444444, \"#bd3786\"], [0.5555555555555556, \"#d8576b\"], [0.6666666666666666, \"#ed7953\"], [0.7777777777777778, \"#fb9f3a\"], [0.8888888888888888, \"#fdca26\"], [1.0, \"#f0f921\"]], \"type\": \"histogram2dcontour\"}], \"mesh3d\": [{\"colorbar\": {\"outlinewidth\": 0, \"ticks\": \"\"}, \"type\": \"mesh3d\"}], \"parcoords\": [{\"line\": {\"colorbar\": {\"outlinewidth\": 0, \"ticks\": \"\"}}, \"type\": \"parcoords\"}], \"pie\": [{\"automargin\": true, \"type\": \"pie\"}], \"scatter\": [{\"marker\": {\"line\": {\"color\": \"#283442\"}}, \"type\": \"scatter\"}], \"scatter3d\": [{\"line\": {\"colorbar\": {\"outlinewidth\": 0, \"ticks\": \"\"}}, \"marker\": {\"colorbar\": {\"outlinewidth\": 0, \"ticks\": \"\"}}, \"type\": \"scatter3d\"}], \"scattercarpet\": [{\"marker\": {\"colorbar\": {\"outlinewidth\": 0, \"ticks\": \"\"}}, \"type\": \"scattercarpet\"}], \"scattergeo\": [{\"marker\": {\"colorbar\": {\"outlinewidth\": 0, \"ticks\": \"\"}}, \"type\": \"scattergeo\"}], \"scattergl\": [{\"marker\": {\"line\": {\"color\": \"#283442\"}}, \"type\": \"scattergl\"}], \"scattermapbox\": [{\"marker\": {\"colorbar\": {\"outlinewidth\": 0, \"ticks\": \"\"}}, \"type\": \"scattermapbox\"}], \"scatterpolar\": [{\"marker\": {\"colorbar\": {\"outlinewidth\": 0, \"ticks\": \"\"}}, \"type\": \"scatterpolar\"}], \"scatterpolargl\": [{\"marker\": {\"colorbar\": {\"outlinewidth\": 0, \"ticks\": \"\"}}, \"type\": \"scatterpolargl\"}], \"scatterternary\": [{\"marker\": {\"colorbar\": {\"outlinewidth\": 0, \"ticks\": \"\"}}, \"type\": \"scatterternary\"}], \"surface\": [{\"colorbar\": {\"outlinewidth\": 0, \"ticks\": \"\"}, \"colorscale\": [[0.0, \"#0d0887\"], [0.1111111111111111, \"#46039f\"], [0.2222222222222222, \"#7201a8\"], [0.3333333333333333, \"#9c179e\"], [0.4444444444444444, \"#bd3786\"], [0.5555555555555556, \"#d8576b\"], [0.6666666666666666, \"#ed7953\"], [0.7777777777777778, \"#fb9f3a\"], [0.8888888888888888, \"#fdca26\"], [1.0, \"#f0f921\"]], \"type\": \"surface\"}], \"table\": [{\"cells\": {\"fill\": {\"color\": \"#506784\"}, \"line\": {\"color\": \"rgb(17,17,17)\"}}, \"header\": {\"fill\": {\"color\": \"#2a3f5f\"}, \"line\": {\"color\": \"rgb(17,17,17)\"}}, \"type\": \"table\"}]}, \"layout\": {\"annotationdefaults\": {\"arrowcolor\": \"#f2f5fa\", \"arrowhead\": 0, \"arrowwidth\": 1}, \"autotypenumbers\": \"strict\", \"coloraxis\": {\"colorbar\": {\"outlinewidth\": 0, \"ticks\": \"\"}}, \"colorscale\": {\"diverging\": [[0, \"#8e0152\"], [0.1, \"#c51b7d\"], [0.2, \"#de77ae\"], [0.3, \"#f1b6da\"], [0.4, \"#fde0ef\"], [0.5, \"#f7f7f7\"], [0.6, \"#e6f5d0\"], [0.7, \"#b8e186\"], [0.8, \"#7fbc41\"], [0.9, \"#4d9221\"], [1, \"#276419\"]], \"sequential\": [[0.0, \"#0d0887\"], [0.1111111111111111, \"#46039f\"], [0.2222222222222222, \"#7201a8\"], [0.3333333333333333, \"#9c179e\"], [0.4444444444444444, \"#bd3786\"], [0.5555555555555556, \"#d8576b\"], [0.6666666666666666, \"#ed7953\"], [0.7777777777777778, \"#fb9f3a\"], [0.8888888888888888, \"#fdca26\"], [1.0, \"#f0f921\"]], \"sequentialminus\": [[0.0, \"#0d0887\"], [0.1111111111111111, \"#46039f\"], [0.2222222222222222, \"#7201a8\"], [0.3333333333333333, \"#9c179e\"], [0.4444444444444444, \"#bd3786\"], [0.5555555555555556, \"#d8576b\"], [0.6666666666666666, \"#ed7953\"], [0.7777777777777778, \"#fb9f3a\"], [0.8888888888888888, \"#fdca26\"], [1.0, \"#f0f921\"]]}, \"colorway\": [\"#636efa\", \"#EF553B\", \"#00cc96\", \"#ab63fa\", \"#FFA15A\", \"#19d3f3\", \"#FF6692\", \"#B6E880\", \"#FF97FF\", \"#FECB52\"], \"font\": {\"color\": \"#f2f5fa\"}, \"geo\": {\"bgcolor\": \"rgb(17,17,17)\", \"lakecolor\": \"rgb(17,17,17)\", \"landcolor\": \"rgb(17,17,17)\", \"showlakes\": true, \"showland\": true, \"subunitcolor\": \"#506784\"}, \"hoverlabel\": {\"align\": \"left\"}, \"hovermode\": \"closest\", \"mapbox\": {\"style\": \"dark\"}, \"paper_bgcolor\": \"rgb(17,17,17)\", \"plot_bgcolor\": \"rgb(17,17,17)\", \"polar\": {\"angularaxis\": {\"gridcolor\": \"#506784\", \"linecolor\": \"#506784\", \"ticks\": \"\"}, \"bgcolor\": \"rgb(17,17,17)\", \"radialaxis\": {\"gridcolor\": \"#506784\", \"linecolor\": \"#506784\", \"ticks\": \"\"}}, \"scene\": {\"xaxis\": {\"backgroundcolor\": \"rgb(17,17,17)\", \"gridcolor\": \"#506784\", \"gridwidth\": 2, \"linecolor\": \"#506784\", \"showbackground\": true, \"ticks\": \"\", \"zerolinecolor\": \"#C8D4E3\"}, \"yaxis\": {\"backgroundcolor\": \"rgb(17,17,17)\", \"gridcolor\": \"#506784\", \"gridwidth\": 2, \"linecolor\": \"#506784\", \"showbackground\": true, \"ticks\": \"\", \"zerolinecolor\": \"#C8D4E3\"}, \"zaxis\": {\"backgroundcolor\": \"rgb(17,17,17)\", \"gridcolor\": \"#506784\", \"gridwidth\": 2, \"linecolor\": \"#506784\", \"showbackground\": true, \"ticks\": \"\", \"zerolinecolor\": \"#C8D4E3\"}}, \"shapedefaults\": {\"line\": {\"color\": \"#f2f5fa\"}}, \"sliderdefaults\": {\"bgcolor\": \"#C8D4E3\", \"bordercolor\": \"rgb(17,17,17)\", \"borderwidth\": 1, \"tickwidth\": 0}, \"ternary\": {\"aaxis\": {\"gridcolor\": \"#506784\", \"linecolor\": \"#506784\", \"ticks\": \"\"}, \"baxis\": {\"gridcolor\": \"#506784\", \"linecolor\": \"#506784\", \"ticks\": \"\"}, \"bgcolor\": \"rgb(17,17,17)\", \"caxis\": {\"gridcolor\": \"#506784\", \"linecolor\": \"#506784\", \"ticks\": \"\"}}, \"title\": {\"x\": 0.05}, \"updatemenudefaults\": {\"bgcolor\": \"#506784\", \"borderwidth\": 0}, \"xaxis\": {\"automargin\": true, \"gridcolor\": \"#283442\", \"linecolor\": \"#506784\", \"ticks\": \"\", \"title\": {\"standoff\": 15}, \"zerolinecolor\": \"#283442\", \"zerolinewidth\": 2}, \"yaxis\": {\"automargin\": true, \"gridcolor\": \"#283442\", \"linecolor\": \"#506784\", \"ticks\": \"\", \"title\": {\"standoff\": 15}, \"zerolinecolor\": \"#283442\", \"zerolinewidth\": 2}}}, \"xaxis\": {\"anchor\": \"y\", \"domain\": [0.0, 1.0], \"title\": {\"text\": \"x\"}}, \"yaxis\": {\"anchor\": \"x\", \"domain\": [0.0, 1.0], \"title\": {\"text\": \"y\"}}},                        {\"responsive\": true}                    ).then(function(){\n",
       "                            \n",
       "var gd = document.getElementById('f7ecbcec-b550-40ea-bf5f-7eff9cf3f5d0');\n",
       "var x = new MutationObserver(function (mutations, observer) {{\n",
       "        var display = window.getComputedStyle(gd).display;\n",
       "        if (!display || display === 'none') {{\n",
       "            console.log([gd, 'removed!']);\n",
       "            Plotly.purge(gd);\n",
       "            observer.disconnect();\n",
       "        }}\n",
       "}});\n",
       "\n",
       "// Listen for the removal of the full notebook cells\n",
       "var notebookContainer = gd.closest('#notebook-container');\n",
       "if (notebookContainer) {{\n",
       "    x.observe(notebookContainer, {childList: true});\n",
       "}}\n",
       "\n",
       "// Listen for the clearing of the current output cell\n",
       "var outputEl = gd.closest('.output');\n",
       "if (outputEl) {{\n",
       "    x.observe(outputEl, {childList: true});\n",
       "}}\n",
       "\n",
       "                        })                };                });            </script>        </div>"
      ]
     },
     "metadata": {},
     "output_type": "display_data"
    }
   ],
   "source": [
    "import plotly.express as px\n",
    " \n",
    "fig = px.bar(x = temp['count_service'], color = temp['requesttype'], y = temp['cd'], barmode = 'stack')\n",
    " \n",
    "fig.show()"
   ]
  },
  {
   "cell_type": "code",
   "execution_count": null,
   "metadata": {},
   "outputs": [],
   "source": []
  }
 ],
 "metadata": {
  "kernelspec": {
   "display_name": "Python 3",
   "language": "python",
   "name": "python3"
  },
  "language_info": {
   "codemirror_mode": {
    "name": "ipython",
    "version": 3
   },
   "file_extension": ".py",
   "mimetype": "text/x-python",
   "name": "python",
   "nbconvert_exporter": "python",
   "pygments_lexer": "ipython3",
   "version": "3.8.5"
  }
 },
 "nbformat": 4,
 "nbformat_minor": 4
}
